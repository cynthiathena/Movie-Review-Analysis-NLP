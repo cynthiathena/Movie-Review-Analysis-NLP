{
  "nbformat": 4,
  "nbformat_minor": 0,
  "metadata": {
    "colab": {
      "name": "NLP Milestone - Summary",
      "provenance": [],
      "collapsed_sections": [
        "ZR_ygfqF3G5l",
        "9LtC2es94JWV",
        "j26gXAIcyuXK",
        "0SCV9C_L6ubs",
        "_XeKkhqQhHSO",
        "w2zGxZ5llKvp"
      ]
    },
    "kernelspec": {
      "name": "python3",
      "display_name": "Python 3"
    },
    "language_info": {
      "name": "python"
    }
  },
  "cells": [
    {
      "cell_type": "markdown",
      "metadata": {
        "id": "ZR_ygfqF3G5l"
      },
      "source": [
        "#Library"
      ]
    },
    {
      "cell_type": "code",
      "metadata": {
        "id": "MzM5_TLn3GOU"
      },
      "source": [
        "import pandas as pd \n",
        "import nltk\n",
        "from nltk.stem import WordNetLemmatizer\n",
        "from nltk.corpus import stopwords\n",
        "from copy import deepcopy\n",
        "import regex as re"
      ],
      "execution_count": 1,
      "outputs": []
    },
    {
      "cell_type": "markdown",
      "metadata": {
        "id": "aavaI-TJ28fi"
      },
      "source": [
        "# Load CSV"
      ]
    },
    {
      "cell_type": "code",
      "metadata": {
        "colab": {
          "resources": {
            "http://localhost:8080/nbextensions/google.colab/files.js": {
              "data": "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",
              "ok": true,
              "headers": [
                [
                  "content-type",
                  "application/javascript"
                ]
              ],
              "status": 200,
              "status_text": ""
            }
          },
          "base_uri": "https://localhost:8080/",
          "height": 72
        },
        "id": "7EPHtCARW4aV",
        "outputId": "c9bc4791-dd61-4c3b-d3b4-243ae85a5faa"
      },
      "source": [
        "from google.colab import files\n",
        "\n",
        "uploaded = files.upload()"
      ],
      "execution_count": 2,
      "outputs": [
        {
          "output_type": "display_data",
          "data": {
            "text/html": [
              "\n",
              "     <input type=\"file\" id=\"files-8c3ec5dc-6a4c-4196-a015-5ef4fe07e878\" name=\"files[]\" multiple disabled\n",
              "        style=\"border:none\" />\n",
              "     <output id=\"result-8c3ec5dc-6a4c-4196-a015-5ef4fe07e878\">\n",
              "      Upload widget is only available when the cell has been executed in the\n",
              "      current browser session. Please rerun this cell to enable.\n",
              "      </output>\n",
              "      <script src=\"/nbextensions/google.colab/files.js\"></script> "
            ],
            "text/plain": [
              "<IPython.core.display.HTML object>"
            ]
          },
          "metadata": {}
        },
        {
          "output_type": "stream",
          "name": "stdout",
          "text": [
            "Saving IMDB.csv to IMDB.csv\n"
          ]
        }
      ]
    },
    {
      "cell_type": "code",
      "metadata": {
        "id": "lNSdfgPf235T"
      },
      "source": [
        "df = pd.read_csv('IMDB.csv')"
      ],
      "execution_count": 3,
      "outputs": []
    },
    {
      "cell_type": "code",
      "metadata": {
        "id": "VQqpwpGW9rrj",
        "colab": {
          "base_uri": "https://localhost:8080/",
          "height": 202
        },
        "outputId": "ea9726ec-23ec-4afb-f451-041f6c3491ff"
      },
      "source": [
        "df.head()"
      ],
      "execution_count": 4,
      "outputs": [
        {
          "output_type": "execute_result",
          "data": {
            "text/html": [
              "<div>\n",
              "<style scoped>\n",
              "    .dataframe tbody tr th:only-of-type {\n",
              "        vertical-align: middle;\n",
              "    }\n",
              "\n",
              "    .dataframe tbody tr th {\n",
              "        vertical-align: top;\n",
              "    }\n",
              "\n",
              "    .dataframe thead th {\n",
              "        text-align: right;\n",
              "    }\n",
              "</style>\n",
              "<table border=\"1\" class=\"dataframe\">\n",
              "  <thead>\n",
              "    <tr style=\"text-align: right;\">\n",
              "      <th></th>\n",
              "      <th>review</th>\n",
              "      <th>sentiment</th>\n",
              "    </tr>\n",
              "  </thead>\n",
              "  <tbody>\n",
              "    <tr>\n",
              "      <th>0</th>\n",
              "      <td>One of the other reviewers has mentioned that ...</td>\n",
              "      <td>positive</td>\n",
              "    </tr>\n",
              "    <tr>\n",
              "      <th>1</th>\n",
              "      <td>A wonderful little production. &lt;br /&gt;&lt;br /&gt;The...</td>\n",
              "      <td>positive</td>\n",
              "    </tr>\n",
              "    <tr>\n",
              "      <th>2</th>\n",
              "      <td>I thought this was a wonderful way to spend ti...</td>\n",
              "      <td>positive</td>\n",
              "    </tr>\n",
              "    <tr>\n",
              "      <th>3</th>\n",
              "      <td>Basically there's a family where a little boy ...</td>\n",
              "      <td>negative</td>\n",
              "    </tr>\n",
              "    <tr>\n",
              "      <th>4</th>\n",
              "      <td>Petter Mattei's \"Love in the Time of Money\" is...</td>\n",
              "      <td>positive</td>\n",
              "    </tr>\n",
              "  </tbody>\n",
              "</table>\n",
              "</div>"
            ],
            "text/plain": [
              "                                              review sentiment\n",
              "0  One of the other reviewers has mentioned that ...  positive\n",
              "1  A wonderful little production. <br /><br />The...  positive\n",
              "2  I thought this was a wonderful way to spend ti...  positive\n",
              "3  Basically there's a family where a little boy ...  negative\n",
              "4  Petter Mattei's \"Love in the Time of Money\" is...  positive"
            ]
          },
          "metadata": {},
          "execution_count": 4
        }
      ]
    },
    {
      "cell_type": "code",
      "metadata": {
        "id": "afovz1It91Wk",
        "colab": {
          "base_uri": "https://localhost:8080/"
        },
        "outputId": "b7974b96-7d4a-4944-f3da-885285caa448"
      },
      "source": [
        "df['sentiment'].value_counts()"
      ],
      "execution_count": 5,
      "outputs": [
        {
          "output_type": "execute_result",
          "data": {
            "text/plain": [
              "positive    25000\n",
              "negative    25000\n",
              "Name: sentiment, dtype: int64"
            ]
          },
          "metadata": {},
          "execution_count": 5
        }
      ]
    },
    {
      "cell_type": "code",
      "metadata": {
        "id": "3VojRp1u-epU",
        "colab": {
          "base_uri": "https://localhost:8080/"
        },
        "outputId": "acb2e477-c58b-427d-fd67-56537943ff32"
      },
      "source": [
        "df.shape"
      ],
      "execution_count": 6,
      "outputs": [
        {
          "output_type": "execute_result",
          "data": {
            "text/plain": [
              "(50000, 2)"
            ]
          },
          "metadata": {},
          "execution_count": 6
        }
      ]
    },
    {
      "cell_type": "code",
      "metadata": {
        "id": "APHcyCLM7B3F"
      },
      "source": [
        "df_original = deepcopy(df)"
      ],
      "execution_count": 7,
      "outputs": []
    },
    {
      "cell_type": "code",
      "metadata": {
        "id": "EAoTd62i9yxj",
        "colab": {
          "base_uri": "https://localhost:8080/",
          "height": 202
        },
        "outputId": "c81915d9-5025-4abf-a54f-df33b70bdd92"
      },
      "source": [
        "df_original.head()"
      ],
      "execution_count": 8,
      "outputs": [
        {
          "output_type": "execute_result",
          "data": {
            "text/html": [
              "<div>\n",
              "<style scoped>\n",
              "    .dataframe tbody tr th:only-of-type {\n",
              "        vertical-align: middle;\n",
              "    }\n",
              "\n",
              "    .dataframe tbody tr th {\n",
              "        vertical-align: top;\n",
              "    }\n",
              "\n",
              "    .dataframe thead th {\n",
              "        text-align: right;\n",
              "    }\n",
              "</style>\n",
              "<table border=\"1\" class=\"dataframe\">\n",
              "  <thead>\n",
              "    <tr style=\"text-align: right;\">\n",
              "      <th></th>\n",
              "      <th>review</th>\n",
              "      <th>sentiment</th>\n",
              "    </tr>\n",
              "  </thead>\n",
              "  <tbody>\n",
              "    <tr>\n",
              "      <th>0</th>\n",
              "      <td>One of the other reviewers has mentioned that ...</td>\n",
              "      <td>positive</td>\n",
              "    </tr>\n",
              "    <tr>\n",
              "      <th>1</th>\n",
              "      <td>A wonderful little production. &lt;br /&gt;&lt;br /&gt;The...</td>\n",
              "      <td>positive</td>\n",
              "    </tr>\n",
              "    <tr>\n",
              "      <th>2</th>\n",
              "      <td>I thought this was a wonderful way to spend ti...</td>\n",
              "      <td>positive</td>\n",
              "    </tr>\n",
              "    <tr>\n",
              "      <th>3</th>\n",
              "      <td>Basically there's a family where a little boy ...</td>\n",
              "      <td>negative</td>\n",
              "    </tr>\n",
              "    <tr>\n",
              "      <th>4</th>\n",
              "      <td>Petter Mattei's \"Love in the Time of Money\" is...</td>\n",
              "      <td>positive</td>\n",
              "    </tr>\n",
              "  </tbody>\n",
              "</table>\n",
              "</div>"
            ],
            "text/plain": [
              "                                              review sentiment\n",
              "0  One of the other reviewers has mentioned that ...  positive\n",
              "1  A wonderful little production. <br /><br />The...  positive\n",
              "2  I thought this was a wonderful way to spend ti...  positive\n",
              "3  Basically there's a family where a little boy ...  negative\n",
              "4  Petter Mattei's \"Love in the Time of Money\" is...  positive"
            ]
          },
          "metadata": {},
          "execution_count": 8
        }
      ]
    },
    {
      "cell_type": "markdown",
      "metadata": {
        "id": "9LtC2es94JWV"
      },
      "source": [
        "# Preprocessing"
      ]
    },
    {
      "cell_type": "markdown",
      "metadata": {
        "id": "-wabTvHDJ4m5"
      },
      "source": [
        "## Remove tags and split into array"
      ]
    },
    {
      "cell_type": "code",
      "metadata": {
        "id": "BB9HyIRPJR4G",
        "colab": {
          "base_uri": "https://localhost:8080/",
          "height": 0
        },
        "outputId": "dd94c185-d4e9-4551-9bca-d8308c23cc7e"
      },
      "source": [
        "def remove_tags(string):\n",
        "    result = re.sub('<.*?>',' ',string)\n",
        "    return result\n",
        "\n",
        "df['review_split'] = df['review'].apply(lambda x: re.sub('<.*?>',' ',x).split())\n",
        "df.head()"
      ],
      "execution_count": 12,
      "outputs": [
        {
          "output_type": "execute_result",
          "data": {
            "text/html": [
              "<div>\n",
              "<style scoped>\n",
              "    .dataframe tbody tr th:only-of-type {\n",
              "        vertical-align: middle;\n",
              "    }\n",
              "\n",
              "    .dataframe tbody tr th {\n",
              "        vertical-align: top;\n",
              "    }\n",
              "\n",
              "    .dataframe thead th {\n",
              "        text-align: right;\n",
              "    }\n",
              "</style>\n",
              "<table border=\"1\" class=\"dataframe\">\n",
              "  <thead>\n",
              "    <tr style=\"text-align: right;\">\n",
              "      <th></th>\n",
              "      <th>review</th>\n",
              "      <th>sentiment</th>\n",
              "      <th>review_split</th>\n",
              "    </tr>\n",
              "  </thead>\n",
              "  <tbody>\n",
              "    <tr>\n",
              "      <th>0</th>\n",
              "      <td>One of the other reviewers has mentioned that ...</td>\n",
              "      <td>positive</td>\n",
              "      <td>[One, of, the, other, reviewers, has, mentione...</td>\n",
              "    </tr>\n",
              "    <tr>\n",
              "      <th>1</th>\n",
              "      <td>A wonderful little production. &lt;br /&gt;&lt;br /&gt;The...</td>\n",
              "      <td>positive</td>\n",
              "      <td>[A, wonderful, little, production., The, filmi...</td>\n",
              "    </tr>\n",
              "    <tr>\n",
              "      <th>2</th>\n",
              "      <td>I thought this was a wonderful way to spend ti...</td>\n",
              "      <td>positive</td>\n",
              "      <td>[I, thought, this, was, a, wonderful, way, to,...</td>\n",
              "    </tr>\n",
              "    <tr>\n",
              "      <th>3</th>\n",
              "      <td>Basically there's a family where a little boy ...</td>\n",
              "      <td>negative</td>\n",
              "      <td>[Basically, there's, a, family, where, a, litt...</td>\n",
              "    </tr>\n",
              "    <tr>\n",
              "      <th>4</th>\n",
              "      <td>Petter Mattei's \"Love in the Time of Money\" is...</td>\n",
              "      <td>positive</td>\n",
              "      <td>[Petter, Mattei's, \"Love, in, the, Time, of, M...</td>\n",
              "    </tr>\n",
              "  </tbody>\n",
              "</table>\n",
              "</div>"
            ],
            "text/plain": [
              "                                              review  ...                                       review_split\n",
              "0  One of the other reviewers has mentioned that ...  ...  [One, of, the, other, reviewers, has, mentione...\n",
              "1  A wonderful little production. <br /><br />The...  ...  [A, wonderful, little, production., The, filmi...\n",
              "2  I thought this was a wonderful way to spend ti...  ...  [I, thought, this, was, a, wonderful, way, to,...\n",
              "3  Basically there's a family where a little boy ...  ...  [Basically, there's, a, family, where, a, litt...\n",
              "4  Petter Mattei's \"Love in the Time of Money\" is...  ...  [Petter, Mattei's, \"Love, in, the, Time, of, M...\n",
              "\n",
              "[5 rows x 3 columns]"
            ]
          },
          "metadata": {},
          "execution_count": 12
        }
      ]
    },
    {
      "cell_type": "markdown",
      "metadata": {
        "id": "jBTKNZMd5yuO"
      },
      "source": [
        "## Stop words removal "
      ]
    },
    {
      "cell_type": "code",
      "metadata": {
        "id": "WWyRezuU_EoT",
        "colab": {
          "base_uri": "https://localhost:8080/"
        },
        "outputId": "76fea54b-00df-480a-9124-3900b85da455"
      },
      "source": [
        "! python -m nltk.downloader stopwords"
      ],
      "execution_count": 13,
      "outputs": [
        {
          "output_type": "stream",
          "name": "stdout",
          "text": [
            "/usr/lib/python3.7/runpy.py:125: RuntimeWarning: 'nltk.downloader' found in sys.modules after import of package 'nltk', but prior to execution of 'nltk.downloader'; this may result in unpredictable behaviour\n",
            "  warn(RuntimeWarning(msg))\n",
            "[nltk_data] Downloading package stopwords to /root/nltk_data...\n",
            "[nltk_data]   Unzipping corpora/stopwords.zip.\n"
          ]
        }
      ]
    },
    {
      "cell_type": "code",
      "metadata": {
        "id": "qO7aNbtD51Fq",
        "colab": {
          "base_uri": "https://localhost:8080/"
        },
        "outputId": "95770444-3369-4589-e911-071d0b9235d4"
      },
      "source": [
        "def stop_words_removal(text) : \n",
        "  stops = set(stopwords.words(\"english\"))\n",
        "  return [word for word in text if word not in (stops)]\n",
        "\n",
        "df['review_wo_stop_words'] = df['review_split'].apply(stop_words_removal)\n",
        "print(df['review_split'][0])\n",
        "print(df['review_wo_stop_words'][0])"
      ],
      "execution_count": 14,
      "outputs": [
        {
          "output_type": "stream",
          "name": "stdout",
          "text": [
            "['One', 'of', 'the', 'other', 'reviewers', 'has', 'mentioned', 'that', 'after', 'watching', 'just', '1', 'Oz', 'episode', \"you'll\", 'be', 'hooked.', 'They', 'are', 'right,', 'as', 'this', 'is', 'exactly', 'what', 'happened', 'with', 'me.', 'The', 'first', 'thing', 'that', 'struck', 'me', 'about', 'Oz', 'was', 'its', 'brutality', 'and', 'unflinching', 'scenes', 'of', 'violence,', 'which', 'set', 'in', 'right', 'from', 'the', 'word', 'GO.', 'Trust', 'me,', 'this', 'is', 'not', 'a', 'show', 'for', 'the', 'faint', 'hearted', 'or', 'timid.', 'This', 'show', 'pulls', 'no', 'punches', 'with', 'regards', 'to', 'drugs,', 'sex', 'or', 'violence.', 'Its', 'is', 'hardcore,', 'in', 'the', 'classic', 'use', 'of', 'the', 'word.', 'It', 'is', 'called', 'OZ', 'as', 'that', 'is', 'the', 'nickname', 'given', 'to', 'the', 'Oswald', 'Maximum', 'Security', 'State', 'Penitentary.', 'It', 'focuses', 'mainly', 'on', 'Emerald', 'City,', 'an', 'experimental', 'section', 'of', 'the', 'prison', 'where', 'all', 'the', 'cells', 'have', 'glass', 'fronts', 'and', 'face', 'inwards,', 'so', 'privacy', 'is', 'not', 'high', 'on', 'the', 'agenda.', 'Em', 'City', 'is', 'home', 'to', 'many..Aryans,', 'Muslims,', 'gangstas,', 'Latinos,', 'Christians,', 'Italians,', 'Irish', 'and', 'more....so', 'scuffles,', 'death', 'stares,', 'dodgy', 'dealings', 'and', 'shady', 'agreements', 'are', 'never', 'far', 'away.', 'I', 'would', 'say', 'the', 'main', 'appeal', 'of', 'the', 'show', 'is', 'due', 'to', 'the', 'fact', 'that', 'it', 'goes', 'where', 'other', 'shows', \"wouldn't\", 'dare.', 'Forget', 'pretty', 'pictures', 'painted', 'for', 'mainstream', 'audiences,', 'forget', 'charm,', 'forget', 'romance...OZ', \"doesn't\", 'mess', 'around.', 'The', 'first', 'episode', 'I', 'ever', 'saw', 'struck', 'me', 'as', 'so', 'nasty', 'it', 'was', 'surreal,', 'I', \"couldn't\", 'say', 'I', 'was', 'ready', 'for', 'it,', 'but', 'as', 'I', 'watched', 'more,', 'I', 'developed', 'a', 'taste', 'for', 'Oz,', 'and', 'got', 'accustomed', 'to', 'the', 'high', 'levels', 'of', 'graphic', 'violence.', 'Not', 'just', 'violence,', 'but', 'injustice', '(crooked', 'guards', \"who'll\", 'be', 'sold', 'out', 'for', 'a', 'nickel,', 'inmates', \"who'll\", 'kill', 'on', 'order', 'and', 'get', 'away', 'with', 'it,', 'well', 'mannered,', 'middle', 'class', 'inmates', 'being', 'turned', 'into', 'prison', 'bitches', 'due', 'to', 'their', 'lack', 'of', 'street', 'skills', 'or', 'prison', 'experience)', 'Watching', 'Oz,', 'you', 'may', 'become', 'comfortable', 'with', 'what', 'is', 'uncomfortable', 'viewing....thats', 'if', 'you', 'can', 'get', 'in', 'touch', 'with', 'your', 'darker', 'side.']\n",
            "['One', 'reviewers', 'mentioned', 'watching', '1', 'Oz', 'episode', 'hooked.', 'They', 'right,', 'exactly', 'happened', 'me.', 'The', 'first', 'thing', 'struck', 'Oz', 'brutality', 'unflinching', 'scenes', 'violence,', 'set', 'right', 'word', 'GO.', 'Trust', 'me,', 'show', 'faint', 'hearted', 'timid.', 'This', 'show', 'pulls', 'punches', 'regards', 'drugs,', 'sex', 'violence.', 'Its', 'hardcore,', 'classic', 'use', 'word.', 'It', 'called', 'OZ', 'nickname', 'given', 'Oswald', 'Maximum', 'Security', 'State', 'Penitentary.', 'It', 'focuses', 'mainly', 'Emerald', 'City,', 'experimental', 'section', 'prison', 'cells', 'glass', 'fronts', 'face', 'inwards,', 'privacy', 'high', 'agenda.', 'Em', 'City', 'home', 'many..Aryans,', 'Muslims,', 'gangstas,', 'Latinos,', 'Christians,', 'Italians,', 'Irish', 'more....so', 'scuffles,', 'death', 'stares,', 'dodgy', 'dealings', 'shady', 'agreements', 'never', 'far', 'away.', 'I', 'would', 'say', 'main', 'appeal', 'show', 'due', 'fact', 'goes', 'shows', 'dare.', 'Forget', 'pretty', 'pictures', 'painted', 'mainstream', 'audiences,', 'forget', 'charm,', 'forget', 'romance...OZ', 'mess', 'around.', 'The', 'first', 'episode', 'I', 'ever', 'saw', 'struck', 'nasty', 'surreal,', 'I', 'say', 'I', 'ready', 'it,', 'I', 'watched', 'more,', 'I', 'developed', 'taste', 'Oz,', 'got', 'accustomed', 'high', 'levels', 'graphic', 'violence.', 'Not', 'violence,', 'injustice', '(crooked', 'guards', \"who'll\", 'sold', 'nickel,', 'inmates', \"who'll\", 'kill', 'order', 'get', 'away', 'it,', 'well', 'mannered,', 'middle', 'class', 'inmates', 'turned', 'prison', 'bitches', 'due', 'lack', 'street', 'skills', 'prison', 'experience)', 'Watching', 'Oz,', 'may', 'become', 'comfortable', 'uncomfortable', 'viewing....thats', 'get', 'touch', 'darker', 'side.']\n"
          ]
        }
      ]
    },
    {
      "cell_type": "code",
      "metadata": {
        "id": "UEFC2LkmKdi4",
        "colab": {
          "base_uri": "https://localhost:8080/",
          "height": 0
        },
        "outputId": "17bd9b5e-feae-4a8e-ac51-46a0b36fed88"
      },
      "source": [
        "df.head()"
      ],
      "execution_count": 15,
      "outputs": [
        {
          "output_type": "execute_result",
          "data": {
            "text/html": [
              "<div>\n",
              "<style scoped>\n",
              "    .dataframe tbody tr th:only-of-type {\n",
              "        vertical-align: middle;\n",
              "    }\n",
              "\n",
              "    .dataframe tbody tr th {\n",
              "        vertical-align: top;\n",
              "    }\n",
              "\n",
              "    .dataframe thead th {\n",
              "        text-align: right;\n",
              "    }\n",
              "</style>\n",
              "<table border=\"1\" class=\"dataframe\">\n",
              "  <thead>\n",
              "    <tr style=\"text-align: right;\">\n",
              "      <th></th>\n",
              "      <th>review</th>\n",
              "      <th>sentiment</th>\n",
              "      <th>review_split</th>\n",
              "      <th>review_wo_stop_words</th>\n",
              "    </tr>\n",
              "  </thead>\n",
              "  <tbody>\n",
              "    <tr>\n",
              "      <th>0</th>\n",
              "      <td>One of the other reviewers has mentioned that ...</td>\n",
              "      <td>positive</td>\n",
              "      <td>[One, of, the, other, reviewers, has, mentione...</td>\n",
              "      <td>[One, reviewers, mentioned, watching, 1, Oz, e...</td>\n",
              "    </tr>\n",
              "    <tr>\n",
              "      <th>1</th>\n",
              "      <td>A wonderful little production. &lt;br /&gt;&lt;br /&gt;The...</td>\n",
              "      <td>positive</td>\n",
              "      <td>[A, wonderful, little, production., The, filmi...</td>\n",
              "      <td>[A, wonderful, little, production., The, filmi...</td>\n",
              "    </tr>\n",
              "    <tr>\n",
              "      <th>2</th>\n",
              "      <td>I thought this was a wonderful way to spend ti...</td>\n",
              "      <td>positive</td>\n",
              "      <td>[I, thought, this, was, a, wonderful, way, to,...</td>\n",
              "      <td>[I, thought, wonderful, way, spend, time, hot,...</td>\n",
              "    </tr>\n",
              "    <tr>\n",
              "      <th>3</th>\n",
              "      <td>Basically there's a family where a little boy ...</td>\n",
              "      <td>negative</td>\n",
              "      <td>[Basically, there's, a, family, where, a, litt...</td>\n",
              "      <td>[Basically, there's, family, little, boy, (Jak...</td>\n",
              "    </tr>\n",
              "    <tr>\n",
              "      <th>4</th>\n",
              "      <td>Petter Mattei's \"Love in the Time of Money\" is...</td>\n",
              "      <td>positive</td>\n",
              "      <td>[Petter, Mattei's, \"Love, in, the, Time, of, M...</td>\n",
              "      <td>[Petter, Mattei's, \"Love, Time, Money\", visual...</td>\n",
              "    </tr>\n",
              "  </tbody>\n",
              "</table>\n",
              "</div>"
            ],
            "text/plain": [
              "                                              review  ...                               review_wo_stop_words\n",
              "0  One of the other reviewers has mentioned that ...  ...  [One, reviewers, mentioned, watching, 1, Oz, e...\n",
              "1  A wonderful little production. <br /><br />The...  ...  [A, wonderful, little, production., The, filmi...\n",
              "2  I thought this was a wonderful way to spend ti...  ...  [I, thought, wonderful, way, spend, time, hot,...\n",
              "3  Basically there's a family where a little boy ...  ...  [Basically, there's, family, little, boy, (Jak...\n",
              "4  Petter Mattei's \"Love in the Time of Money\" is...  ...  [Petter, Mattei's, \"Love, Time, Money\", visual...\n",
              "\n",
              "[5 rows x 4 columns]"
            ]
          },
          "metadata": {},
          "execution_count": 15
        }
      ]
    },
    {
      "cell_type": "markdown",
      "metadata": {
        "id": "jcIvVDEw4Pry"
      },
      "source": [
        "## Lemmatization"
      ]
    },
    {
      "cell_type": "code",
      "metadata": {
        "id": "psAevQJ7Edm4",
        "colab": {
          "base_uri": "https://localhost:8080/"
        },
        "outputId": "2a11cce1-280b-4e29-fe2c-6468e6a6f49d"
      },
      "source": [
        "! python -m nltk.downloader wordnet"
      ],
      "execution_count": 16,
      "outputs": [
        {
          "output_type": "stream",
          "name": "stdout",
          "text": [
            "/usr/lib/python3.7/runpy.py:125: RuntimeWarning: 'nltk.downloader' found in sys.modules after import of package 'nltk', but prior to execution of 'nltk.downloader'; this may result in unpredictable behaviour\n",
            "  warn(RuntimeWarning(msg))\n",
            "[nltk_data] Downloading package wordnet to /root/nltk_data...\n",
            "[nltk_data]   Unzipping corpora/wordnet.zip.\n"
          ]
        }
      ]
    },
    {
      "cell_type": "code",
      "metadata": {
        "id": "UdxGAMty4Iqj",
        "colab": {
          "base_uri": "https://localhost:8080/"
        },
        "outputId": "3afb4037-daf1-4ac3-f0a9-91180d7f6ca4"
      },
      "source": [
        "def lemmatize_text(text):\n",
        "    lemmatizer = WordNetLemmatizer()\n",
        "    return [lemmatizer.lemmatize(w) for w in text] \n",
        "\n",
        "df['review_lemmatize'] = df['review_wo_stop_words'].apply(lemmatize_text)\n",
        "print(df['review_wo_stop_words'][0])\n",
        "print(df['review_lemmatize'][0])"
      ],
      "execution_count": 17,
      "outputs": [
        {
          "output_type": "stream",
          "name": "stdout",
          "text": [
            "['One', 'reviewers', 'mentioned', 'watching', '1', 'Oz', 'episode', 'hooked.', 'They', 'right,', 'exactly', 'happened', 'me.', 'The', 'first', 'thing', 'struck', 'Oz', 'brutality', 'unflinching', 'scenes', 'violence,', 'set', 'right', 'word', 'GO.', 'Trust', 'me,', 'show', 'faint', 'hearted', 'timid.', 'This', 'show', 'pulls', 'punches', 'regards', 'drugs,', 'sex', 'violence.', 'Its', 'hardcore,', 'classic', 'use', 'word.', 'It', 'called', 'OZ', 'nickname', 'given', 'Oswald', 'Maximum', 'Security', 'State', 'Penitentary.', 'It', 'focuses', 'mainly', 'Emerald', 'City,', 'experimental', 'section', 'prison', 'cells', 'glass', 'fronts', 'face', 'inwards,', 'privacy', 'high', 'agenda.', 'Em', 'City', 'home', 'many..Aryans,', 'Muslims,', 'gangstas,', 'Latinos,', 'Christians,', 'Italians,', 'Irish', 'more....so', 'scuffles,', 'death', 'stares,', 'dodgy', 'dealings', 'shady', 'agreements', 'never', 'far', 'away.', 'I', 'would', 'say', 'main', 'appeal', 'show', 'due', 'fact', 'goes', 'shows', 'dare.', 'Forget', 'pretty', 'pictures', 'painted', 'mainstream', 'audiences,', 'forget', 'charm,', 'forget', 'romance...OZ', 'mess', 'around.', 'The', 'first', 'episode', 'I', 'ever', 'saw', 'struck', 'nasty', 'surreal,', 'I', 'say', 'I', 'ready', 'it,', 'I', 'watched', 'more,', 'I', 'developed', 'taste', 'Oz,', 'got', 'accustomed', 'high', 'levels', 'graphic', 'violence.', 'Not', 'violence,', 'injustice', '(crooked', 'guards', \"who'll\", 'sold', 'nickel,', 'inmates', \"who'll\", 'kill', 'order', 'get', 'away', 'it,', 'well', 'mannered,', 'middle', 'class', 'inmates', 'turned', 'prison', 'bitches', 'due', 'lack', 'street', 'skills', 'prison', 'experience)', 'Watching', 'Oz,', 'may', 'become', 'comfortable', 'uncomfortable', 'viewing....thats', 'get', 'touch', 'darker', 'side.']\n",
            "['One', 'reviewer', 'mentioned', 'watching', '1', 'Oz', 'episode', 'hooked.', 'They', 'right,', 'exactly', 'happened', 'me.', 'The', 'first', 'thing', 'struck', 'Oz', 'brutality', 'unflinching', 'scene', 'violence,', 'set', 'right', 'word', 'GO.', 'Trust', 'me,', 'show', 'faint', 'hearted', 'timid.', 'This', 'show', 'pull', 'punch', 'regard', 'drugs,', 'sex', 'violence.', 'Its', 'hardcore,', 'classic', 'use', 'word.', 'It', 'called', 'OZ', 'nickname', 'given', 'Oswald', 'Maximum', 'Security', 'State', 'Penitentary.', 'It', 'focus', 'mainly', 'Emerald', 'City,', 'experimental', 'section', 'prison', 'cell', 'glass', 'front', 'face', 'inwards,', 'privacy', 'high', 'agenda.', 'Em', 'City', 'home', 'many..Aryans,', 'Muslims,', 'gangstas,', 'Latinos,', 'Christians,', 'Italians,', 'Irish', 'more....so', 'scuffles,', 'death', 'stares,', 'dodgy', 'dealing', 'shady', 'agreement', 'never', 'far', 'away.', 'I', 'would', 'say', 'main', 'appeal', 'show', 'due', 'fact', 'go', 'show', 'dare.', 'Forget', 'pretty', 'picture', 'painted', 'mainstream', 'audiences,', 'forget', 'charm,', 'forget', 'romance...OZ', 'mess', 'around.', 'The', 'first', 'episode', 'I', 'ever', 'saw', 'struck', 'nasty', 'surreal,', 'I', 'say', 'I', 'ready', 'it,', 'I', 'watched', 'more,', 'I', 'developed', 'taste', 'Oz,', 'got', 'accustomed', 'high', 'level', 'graphic', 'violence.', 'Not', 'violence,', 'injustice', '(crooked', 'guard', \"who'll\", 'sold', 'nickel,', 'inmate', \"who'll\", 'kill', 'order', 'get', 'away', 'it,', 'well', 'mannered,', 'middle', 'class', 'inmate', 'turned', 'prison', 'bitch', 'due', 'lack', 'street', 'skill', 'prison', 'experience)', 'Watching', 'Oz,', 'may', 'become', 'comfortable', 'uncomfortable', 'viewing....thats', 'get', 'touch', 'darker', 'side.']\n"
          ]
        }
      ]
    },
    {
      "cell_type": "markdown",
      "metadata": {
        "id": "_pp6Oiq9ixOx"
      },
      "source": [
        "# Summary with Tools for Benchmark"
      ]
    },
    {
      "cell_type": "code",
      "metadata": {
        "id": "CxFazFh_5j10"
      },
      "source": [
        "df_sum = df"
      ],
      "execution_count": 40,
      "outputs": []
    },
    {
      "cell_type": "code",
      "metadata": {
        "id": "eyjyPE7j5wRR"
      },
      "source": [
        "df_sum['review_removetags'] = df_sum['review'].apply(remove_tags)"
      ],
      "execution_count": 41,
      "outputs": []
    },
    {
      "cell_type": "code",
      "metadata": {
        "id": "JlSloYBz9etN",
        "colab": {
          "base_uri": "https://localhost:8080/"
        },
        "outputId": "32c13da4-093b-4531-fa1a-9ee1e5aa0fb1"
      },
      "source": [
        "pip install pysummarization"
      ],
      "execution_count": 42,
      "outputs": [
        {
          "output_type": "stream",
          "name": "stdout",
          "text": [
            "Collecting pysummarization\n",
            "  Downloading pysummarization-1.1.8.tar.gz (51 kB)\n",
            "\u001b[?25l\r\u001b[K     |██████▍                         | 10 kB 19.9 MB/s eta 0:00:01\r\u001b[K     |████████████▊                   | 20 kB 17.5 MB/s eta 0:00:01\r\u001b[K     |███████████████████             | 30 kB 11.3 MB/s eta 0:00:01\r\u001b[K     |█████████████████████████▌      | 40 kB 9.6 MB/s eta 0:00:01\r\u001b[K     |███████████████████████████████▉| 51 kB 5.3 MB/s eta 0:00:01\r\u001b[K     |████████████████████████████████| 51 kB 146 kB/s \n",
            "\u001b[?25hRequirement already satisfied: numpy in /usr/local/lib/python3.7/dist-packages (from pysummarization) (1.19.5)\n",
            "Requirement already satisfied: nltk in /usr/local/lib/python3.7/dist-packages (from pysummarization) (3.2.5)\n",
            "Requirement already satisfied: six in /usr/local/lib/python3.7/dist-packages (from nltk->pysummarization) (1.15.0)\n",
            "Building wheels for collected packages: pysummarization\n",
            "  Building wheel for pysummarization (setup.py) ... \u001b[?25l\u001b[?25hdone\n",
            "  Created wheel for pysummarization: filename=pysummarization-1.1.8-py3-none-any.whl size=59453 sha256=aaa19b3a7453f16fce0ccb95d932aa4b56e218a92516cf2f3adfa4b39f25918e\n",
            "  Stored in directory: /root/.cache/pip/wheels/da/14/3e/02d15001af23ca877c5149b66280a605e5cdbbe76972598afa\n",
            "Successfully built pysummarization\n",
            "Installing collected packages: pysummarization\n",
            "Successfully installed pysummarization-1.1.8\n"
          ]
        }
      ]
    },
    {
      "cell_type": "code",
      "metadata": {
        "id": "X2lewdYTZmaQ"
      },
      "source": [
        "from pysummarization.nlpbase.auto_abstractor import AutoAbstractor\n",
        "from pysummarization.tokenizabledoc.simple_tokenizer import SimpleTokenizer\n",
        "from pysummarization.abstractabledoc.top_n_rank_abstractor import TopNRankAbstractor"
      ],
      "execution_count": 43,
      "outputs": []
    },
    {
      "cell_type": "code",
      "metadata": {
        "id": "fyns9U8wabuZ"
      },
      "source": [
        "auto_abstractor = AutoAbstractor()\n",
        "auto_abstractor.tokenizable_doc = SimpleTokenizer()\n",
        "auto_abstractor.delimiter_list = ['.', '\\n']\n",
        "abstractable_doc = TopNRankAbstractor()\n",
        "\n",
        "# result_dict = auto_abstractor.summarize(document, abstractable_doc)"
      ],
      "execution_count": 44,
      "outputs": []
    },
    {
      "cell_type": "code",
      "metadata": {
        "id": "wqUpCz7EbzOP"
      },
      "source": [
        "def getSumm(text):\n",
        "  result_dict = auto_abstractor.summarize(text, abstractable_doc)\n",
        "  summ = getTheLarger(result_dict)\n",
        "  return summ\n",
        "\n",
        "def getTheLarger(arrResult):\n",
        "  num = 0\n",
        "  for i in range(len(arrResult['scoring_data'])):\n",
        "    if(arrResult['scoring_data'][i][1] > num):\n",
        "      num = arrResult['scoring_data'][i][1]\n",
        "      res = arrResult['summarize_result'][i]\n",
        "  return res"
      ],
      "execution_count": 45,
      "outputs": []
    },
    {
      "cell_type": "code",
      "metadata": {
        "id": "yVu-ruBmlxDe"
      },
      "source": [
        "df_sum['review_sentence_benchmark'] = df_sum['review_removetags'].apply(getSumm)"
      ],
      "execution_count": 46,
      "outputs": []
    },
    {
      "cell_type": "code",
      "metadata": {
        "id": "dHtfHjUev3Ie"
      },
      "source": [
        "df_sum['review_benchmark'] = df_sum['review_sentence_benchmark'].apply(lambda x: re.sub('<.*?>',' ',x).split())"
      ],
      "execution_count": 47,
      "outputs": []
    },
    {
      "cell_type": "code",
      "metadata": {
        "id": "BLfOFInTa09M"
      },
      "source": [
        "df_sum['review_benchmark'] = df_sum['review_benchmark'].apply(stop_words_removal)"
      ],
      "execution_count": 48,
      "outputs": []
    },
    {
      "cell_type": "code",
      "metadata": {
        "id": "N5QDgAduuQ78"
      },
      "source": [
        "df_sum['review_benchmark'] = df_sum['review_benchmark'].apply(lemmatize_text)"
      ],
      "execution_count": 49,
      "outputs": []
    },
    {
      "cell_type": "code",
      "metadata": {
        "id": "iQsMr6SEvJsp",
        "colab": {
          "base_uri": "https://localhost:8080/"
        },
        "outputId": "4328f6cc-013f-4618-d1c3-d43732f26eda"
      },
      "source": [
        "df_sum['review_benchmark']"
      ],
      "execution_count": 50,
      "outputs": [
        {
          "output_type": "execute_result",
          "data": {
            "text/plain": [
              "0        [The, first, thing, struck, Oz, brutality, unf...\n",
              "1        [The, actor, extremely, well, chosen-, Michael...\n",
              "2        [While, may, disappointed, realize, Match, Poi...\n",
              "3        [And, Jake, closet, totally, ruin, film!, I, e...\n",
              "4        [This, variation, Arthur, Schnitzler's, play, ...\n",
              "                               ...                        \n",
              "49995    [Sharon, Stone, great,, always, is,, even, mov...\n",
              "49996    [Bad, plot,, bad, dialogue,, bad, acting,, idi...\n",
              "49997    [I, still, practicing, Catholic, would, consid...\n",
              "49998    [This, second, rate,, excessively, vicious, We...\n",
              "49999    [I, would, say, movie, worth, rental,, hardly,...\n",
              "Name: review_benchmark, Length: 50000, dtype: object"
            ]
          },
          "metadata": {},
          "execution_count": 50
        }
      ]
    },
    {
      "cell_type": "code",
      "metadata": {
        "id": "N3C9DXu0mSiA"
      },
      "source": [
        "# sentenceValue = dict()\n",
        "\n",
        "# for s in df_sum['review_split_sentence']:\n",
        "#   for word, freq in freqTable.items():\n",
        "#     if word in s.lower():\n",
        "#       if s in sentenceValue:\n",
        "#         sentenceValue[s] +=freq\n",
        "#       else:\n",
        "#         sentenceValue[s] = freq"
      ],
      "execution_count": 51,
      "outputs": []
    },
    {
      "cell_type": "markdown",
      "metadata": {
        "id": "16TZaBMijng_"
      },
      "source": [
        "# AddPrep\n"
      ]
    },
    {
      "cell_type": "code",
      "metadata": {
        "colab": {
          "base_uri": "https://localhost:8080/",
          "height": 435
        },
        "id": "DZAiUfiHlstw",
        "outputId": "01c76d5c-ad3b-4e91-81c2-69218f775bf3"
      },
      "source": [
        "nltk.download('punkt')\n",
        "from nltk.tokenize import sent_tokenize\n",
        "def split_Sentence(text):\n",
        "    result = sent_tokenize(text)\n",
        "    return result\n",
        "\n",
        "df_sum['review_split_sentence'] = df_sum['review'].apply(remove_tags)\n",
        "df_sum['review_split_sentence'] = df_sum['review_split_sentence'].apply(split_Sentence)\n",
        "df_sum.head()"
      ],
      "execution_count": 52,
      "outputs": [
        {
          "output_type": "stream",
          "name": "stdout",
          "text": [
            "[nltk_data] Downloading package punkt to /root/nltk_data...\n",
            "[nltk_data]   Unzipping tokenizers/punkt.zip.\n"
          ]
        },
        {
          "output_type": "execute_result",
          "data": {
            "text/html": [
              "<div>\n",
              "<style scoped>\n",
              "    .dataframe tbody tr th:only-of-type {\n",
              "        vertical-align: middle;\n",
              "    }\n",
              "\n",
              "    .dataframe tbody tr th {\n",
              "        vertical-align: top;\n",
              "    }\n",
              "\n",
              "    .dataframe thead th {\n",
              "        text-align: right;\n",
              "    }\n",
              "</style>\n",
              "<table border=\"1\" class=\"dataframe\">\n",
              "  <thead>\n",
              "    <tr style=\"text-align: right;\">\n",
              "      <th></th>\n",
              "      <th>review</th>\n",
              "      <th>sentiment</th>\n",
              "      <th>review_split</th>\n",
              "      <th>review_wo_stop_words</th>\n",
              "      <th>review_lemmatize</th>\n",
              "      <th>review_removetags</th>\n",
              "      <th>review_sentence_benchmark</th>\n",
              "      <th>review_benchmark</th>\n",
              "      <th>review_split_sentence</th>\n",
              "    </tr>\n",
              "  </thead>\n",
              "  <tbody>\n",
              "    <tr>\n",
              "      <th>0</th>\n",
              "      <td>One of the other reviewers has mentioned that ...</td>\n",
              "      <td>positive</td>\n",
              "      <td>[One, of, the, other, reviewers, has, mentione...</td>\n",
              "      <td>[One, reviewers, mentioned, watching, 1, Oz, e...</td>\n",
              "      <td>[One, reviewer, mentioned, watching, 1, Oz, ep...</td>\n",
              "      <td>One of the other reviewers has mentioned that ...</td>\n",
              "      <td>The first thing that struck me about Oz was ...</td>\n",
              "      <td>[The, first, thing, struck, Oz, brutality, unf...</td>\n",
              "      <td>[One of the other reviewers has mentioned that...</td>\n",
              "    </tr>\n",
              "    <tr>\n",
              "      <th>1</th>\n",
              "      <td>A wonderful little production. &lt;br /&gt;&lt;br /&gt;The...</td>\n",
              "      <td>positive</td>\n",
              "      <td>[A, wonderful, little, production., The, filmi...</td>\n",
              "      <td>[A, wonderful, little, production., The, filmi...</td>\n",
              "      <td>[A, wonderful, little, production., The, filmi...</td>\n",
              "      <td>A wonderful little production.   The filming t...</td>\n",
              "      <td>The actors are extremely well chosen- Micha...</td>\n",
              "      <td>[The, actor, extremely, well, chosen-, Michael...</td>\n",
              "      <td>[A wonderful little production., The filming t...</td>\n",
              "    </tr>\n",
              "    <tr>\n",
              "      <th>2</th>\n",
              "      <td>I thought this was a wonderful way to spend ti...</td>\n",
              "      <td>positive</td>\n",
              "      <td>[I, thought, this, was, a, wonderful, way, to,...</td>\n",
              "      <td>[I, thought, wonderful, way, spend, time, hot,...</td>\n",
              "      <td>[I, thought, wonderful, way, spend, time, hot,...</td>\n",
              "      <td>I thought this was a wonderful way to spend ti...</td>\n",
              "      <td>While some may be disappointed when they real...</td>\n",
              "      <td>[While, may, disappointed, realize, Match, Poi...</td>\n",
              "      <td>[I thought this was a wonderful way to spend t...</td>\n",
              "    </tr>\n",
              "    <tr>\n",
              "      <th>3</th>\n",
              "      <td>Basically there's a family where a little boy ...</td>\n",
              "      <td>negative</td>\n",
              "      <td>[Basically, there's, a, family, where, a, litt...</td>\n",
              "      <td>[Basically, there's, family, little, boy, (Jak...</td>\n",
              "      <td>[Basically, there's, family, little, boy, (Jak...</td>\n",
              "      <td>Basically there's a family where a little boy ...</td>\n",
              "      <td>And then we have Jake with his closet which t...</td>\n",
              "      <td>[And, Jake, closet, totally, ruin, film!, I, e...</td>\n",
              "      <td>[Basically there's a family where a little boy...</td>\n",
              "    </tr>\n",
              "    <tr>\n",
              "      <th>4</th>\n",
              "      <td>Petter Mattei's \"Love in the Time of Money\" is...</td>\n",
              "      <td>positive</td>\n",
              "      <td>[Petter, Mattei's, \"Love, in, the, Time, of, M...</td>\n",
              "      <td>[Petter, Mattei's, \"Love, Time, Money\", visual...</td>\n",
              "      <td>[Petter, Mattei's, \"Love, Time, Money\", visual...</td>\n",
              "      <td>Petter Mattei's \"Love in the Time of Money\" is...</td>\n",
              "      <td>This being a variation on the Arthur Schnit...</td>\n",
              "      <td>[This, variation, Arthur, Schnitzler's, play, ...</td>\n",
              "      <td>[Petter Mattei's \"Love in the Time of Money\" i...</td>\n",
              "    </tr>\n",
              "  </tbody>\n",
              "</table>\n",
              "</div>"
            ],
            "text/plain": [
              "                                              review  ...                              review_split_sentence\n",
              "0  One of the other reviewers has mentioned that ...  ...  [One of the other reviewers has mentioned that...\n",
              "1  A wonderful little production. <br /><br />The...  ...  [A wonderful little production., The filming t...\n",
              "2  I thought this was a wonderful way to spend ti...  ...  [I thought this was a wonderful way to spend t...\n",
              "3  Basically there's a family where a little boy ...  ...  [Basically there's a family where a little boy...\n",
              "4  Petter Mattei's \"Love in the Time of Money\" is...  ...  [Petter Mattei's \"Love in the Time of Money\" i...\n",
              "\n",
              "[5 rows x 9 columns]"
            ]
          },
          "metadata": {},
          "execution_count": 52
        }
      ]
    },
    {
      "cell_type": "markdown",
      "metadata": {
        "id": "teQgAN6MmQHj"
      },
      "source": [
        "# Summary With WordFrequency Algorithm"
      ]
    },
    {
      "cell_type": "code",
      "metadata": {
        "id": "zCNN-zQMsbQd"
      },
      "source": [
        "import string \n",
        "punc = ['.',',','?','!']\n",
        "for i in range(len(df_sum)):\n",
        "  sentence = df_sum['review_split_sentence'][i]\n",
        "  p = len(sentence)\n",
        "  q = len(sentence[p-1])\n",
        "  if(p!=1):\n",
        "    if sentence[p-1][q-1] not in punc:\n",
        "      del df_sum['review_split_sentence'][i][p-1]\n"
      ],
      "execution_count": 53,
      "outputs": []
    },
    {
      "cell_type": "code",
      "metadata": {
        "id": "Cko1J66B0H5I"
      },
      "source": [
        "review_split_prep =[]\n",
        "for i in range(len(df_sum)):\n",
        "  temp = ''\n",
        "  for j in range(len(df_sum['review_split_sentence'][i])):\n",
        "    temp += ' '\n",
        "    temp +=(df_sum['review_split_sentence'][i][j])\n",
        "  # print(temp)\n",
        "  review_split_prep.append(temp)"
      ],
      "execution_count": 54,
      "outputs": []
    },
    {
      "cell_type": "code",
      "metadata": {
        "id": "saemtI4o2Byr"
      },
      "source": [
        "df_sum['review_split_new'] = review_split_prep"
      ],
      "execution_count": 55,
      "outputs": []
    },
    {
      "cell_type": "code",
      "metadata": {
        "id": "2A91kgHKmRwV"
      },
      "source": [
        "#importing libraries\n",
        "from nltk.corpus import stopwords\n",
        "from nltk.stem import PorterStemmer\n",
        "from nltk.tokenize import word_tokenize, sent_tokenize\n",
        "import bs4 as BeautifulSoup\n",
        "import urllib.request  \n",
        "\n",
        "def _create_dictionary_table(text_string) -> dict:\n",
        "   \n",
        "    #removing stop words\n",
        "    stop_words = set(stopwords.words(\"english\"))\n",
        "    \n",
        "    words = word_tokenize(text_string)\n",
        "    \n",
        "    #reducing words to their root form\n",
        "    stem = PorterStemmer()\n",
        "    \n",
        "    #creating dictionary for the word frequency table\n",
        "    frequency_table = dict()\n",
        "    for wd in words:\n",
        "        wd = stem.stem(wd)\n",
        "        if wd in stop_words:\n",
        "            continue\n",
        "        if wd in frequency_table:\n",
        "            frequency_table[wd] += 1\n",
        "        else:\n",
        "            frequency_table[wd] = 1\n",
        "\n",
        "    return frequency_table\n",
        "\n",
        "\n",
        "def _calculate_sentence_scores(sentences, frequency_table) -> dict:   \n",
        "\n",
        "    #algorithm for scoring a sentence by its words\n",
        "    sentence_weight = dict()\n",
        "\n",
        "    for sentence in sentences:\n",
        "        sentence_wordcount = (len(word_tokenize(sentence)))\n",
        "        sentence_wordcount_without_stop_words = 0\n",
        "        for word_weight in frequency_table:\n",
        "            if word_weight in sentence.lower():\n",
        "                sentence_wordcount_without_stop_words += 1\n",
        "                if sentence[:20] in sentence_weight:\n",
        "                    sentence_weight[sentence[:20]] += frequency_table[word_weight]\n",
        "                else:\n",
        "                    sentence_weight[sentence[:20]] = frequency_table[word_weight]\n",
        "\n",
        "        sentence_weight[sentence[:20]] = sentence_weight[sentence[:20]] / sentence_wordcount_without_stop_words\n",
        "\n",
        "       \n",
        "\n",
        "    return sentence_weight\n",
        "\n",
        "def _calculate_average_score(sentence_weight) -> int:\n",
        "   \n",
        "    #calculating the average score for the sentences\n",
        "    sum_values = 0\n",
        "    for entry in sentence_weight:\n",
        "        sum_values += sentence_weight[entry]\n",
        "\n",
        "    #getting sentence average value from source text\n",
        "    average_score = (sum_values / len(sentence_weight))\n",
        "\n",
        "    return average_score\n",
        "\n",
        "def _get_article_summary(sentences, sentence_weight, threshold):\n",
        "    sentence_counter = 0\n",
        "    article_summary = ''\n",
        "\n",
        "    for sentence in sentences:\n",
        "        if sentence[:20] in sentence_weight and sentence_weight[sentence[:20]] >= (threshold):\n",
        "            article_summary += \" \" + sentence\n",
        "            sentence_counter += 1\n",
        "\n",
        "    return article_summary\n",
        "\n",
        "def _run_article_summary(article):\n",
        "    \n",
        "    #creating a dictionary for the word frequency table\n",
        "    frequency_table = _create_dictionary_table(article)\n",
        "\n",
        "    #tokenizing the sentences\n",
        "    sentences = sent_tokenize(article)\n",
        "\n",
        "    #algorithm for scoring a sentence by its words\n",
        "    sentence_scores = _calculate_sentence_scores(sentences, frequency_table)\n",
        "\n",
        "    #getting the threshold\n",
        "    threshold = _calculate_average_score(sentence_scores)\n",
        "\n",
        "    #producing the summary\n",
        "    article_summary = _get_article_summary(sentences, sentence_scores, 1.5 * threshold)\n",
        "\n",
        "    return article_summary\n",
        "\n",
        "# if __name__ == '__main__':\n",
        "#     summary_results = _run_article_summary(article_content)\n",
        "#     print(summary_results)"
      ],
      "execution_count": 56,
      "outputs": []
    },
    {
      "cell_type": "code",
      "metadata": {
        "id": "lK0lU0Ounf15"
      },
      "source": [
        "summ_new = []\n",
        "for i in range(len(df_sum)):\n",
        "  # print(i)\n",
        "  summ_new.append(_run_article_summary(df_sum['review_split_new'][i]))"
      ],
      "execution_count": 57,
      "outputs": []
    },
    {
      "cell_type": "code",
      "metadata": {
        "colab": {
          "base_uri": "https://localhost:8080/"
        },
        "id": "zT_WTjE9_t8j",
        "outputId": "810976f5-4bf8-4223-aec9-a6339c4a196d"
      },
      "source": [
        "summ_new"
      ],
      "execution_count": 58,
      "outputs": [
        {
          "output_type": "execute_result",
          "data": {
            "text/plain": [
              "[' They are right, as this is exactly what happened with me. Trust me, this is not a show for the faint hearted or timid.',\n",
              " '',\n",
              " '',\n",
              " '',\n",
              " '',\n",
              " '',\n",
              " '',\n",
              " ' As it is now, the show is just awful.',\n",
              " '',\n",
              " ' !',\n",
              " '',\n",
              " ' The horror. The horror. There are no rules.',\n",
              " '',\n",
              " ' I do not know.',\n",
              " '',\n",
              " '',\n",
              " ' In and of itself it is not a bad film.',\n",
              " ' Horrible. Just awful.',\n",
              " '',\n",
              " '',\n",
              " \" And if you're looking for Qaulen, he's the one wearing the helicopter.\",\n",
              " ' !',\n",
              " '',\n",
              " '',\n",
              " '',\n",
              " '',\n",
              " ' If so, I want what he was smoking.',\n",
              " '',\n",
              " ' What crappy dancing.',\n",
              " ' Then again, calling Cold Mountain\" a war movie is not entirely accurate. However, \"Cold Mountain\" is not so much about the Civil War itself as it is about the period and the people of the times.',\n",
              " '',\n",
              " ' Those aspects are dealt brilliantly.',\n",
              " '',\n",
              " ' Your loss, world.',\n",
              " '',\n",
              " ' It is, but not in that way. Just say no to this movie, though.',\n",
              " \" That's it.\",\n",
              " ' Where to begin? What do they do?',\n",
              " ' !',\n",
              " ' Truly grotesque. Creepy....',\n",
              " '',\n",
              " '',\n",
              " ' The cops blast away at the jeep with gary and company blasting away at them.',\n",
              " ' Unfortunately, it never did. and cheesy.',\n",
              " '',\n",
              " '',\n",
              " '',\n",
              " ' If I were John Voight and Mary Steenburgen, I would be trying to erase this from my CV.',\n",
              " ' This is not the situation in THE POWER AND THE GLORY.',\n",
              " '',\n",
              " '',\n",
              " '',\n",
              " '',\n",
              " '',\n",
              " ' Execution and murder. Self-defense and patriotism.',\n",
              " '',\n",
              " '',\n",
              " \" It's so unbelievable.\",\n",
              " '',\n",
              " '',\n",
              " '',\n",
              " ' \", must have been out for the evening.',\n",
              " '',\n",
              " '',\n",
              " ' This (predictably) bombed. Flimsy and dull. I give this a 1.',\n",
              " '',\n",
              " '',\n",
              " ' Thank you.',\n",
              " '',\n",
              " ' But I will pick one out as an example. The only saving grace for this film is the work of Bill Campbell.',\n",
              " ' Ty Webb is funny, being the only character from the original.',\n",
              " '  Honestly - this short film sucks.',\n",
              " ' Its not just about entertainment. Ha ha.',\n",
              " ' The movie is excellent.',\n",
              " ' All-in-all, the lack of a whammy bar in the surf music irked me.',\n",
              " '',\n",
              " ' Of which there is a lot.',\n",
              " '',\n",
              " '',\n",
              " ' BRAVO!!!!!!! !',\n",
              " ' Awesome.',\n",
              " ' But do not be fooled.',\n",
              " ' Unless you really want to see it, avoid Blood Surf.',\n",
              " ' The acting was mostly average and pretty forgettable.',\n",
              " '',\n",
              " ' I was very disappointed!!',\n",
              " ' He is gentle, convincing and compelling in this role. I wish there was more to it than that, but there it is in a nutshell.',\n",
              " ' not scary at all.',\n",
              " '',\n",
              " ' It was scary most of the way, which is what one could expect from it. Plus, the plot had some brains mixing narratives. For the Grudge 2, the critic goes the same way.',\n",
              " '',\n",
              " ' I feel for you, I *really* do.',\n",
              " '',\n",
              " '',\n",
              " ' Of course, I was let down.',\n",
              " ' No. I laughed. I cried. Simply. A must-see.',\n",
              " '',\n",
              " ' !',\n",
              " '',\n",
              " '',\n",
              " '',\n",
              " ' Here\\'s what I have to say about it. The film was definitely very impressive to look at. etc.\" Case in point. Peace.',\n",
              " ' I am glad I did.',\n",
              " \" Boy, now doesn't that sound really scary and disturbing?\",\n",
              " ' There is no mystery or suspense.',\n",
              " ' A treasure of a film.',\n",
              " '',\n",
              " ' There, he hopes to find God. Now Kirk is reckless, a practical jokers, and silly.',\n",
              " ' ), and the music is awfully hokey. For all that, I was quite fascinated.',\n",
              " '',\n",
              " ' I saw no \"intrigue.\" I saw no \"violence.\"',\n",
              " '',\n",
              " '',\n",
              " '',\n",
              " ' However, there is a car chase in here, and a dandy it is.',\n",
              " '',\n",
              " '',\n",
              " '',\n",
              " '',\n",
              " ' Okay, you got me.',\n",
              " '',\n",
              " '',\n",
              " '',\n",
              " '',\n",
              " '',\n",
              " '',\n",
              " ' Be ready to crack a few eggs, including your own.',\n",
              " '',\n",
              " '',\n",
              " '',\n",
              " ' Close ups predominated it.',\n",
              " ' The Hound.',\n",
              " \" It's mindboggling.\",\n",
              " '',\n",
              " '',\n",
              " ' But it was not.',\n",
              " ' Netflix does not have it.',\n",
              " '',\n",
              " ' Not really, but Robin certainly was. But, of course, the real focus was on Robin. Nanoo, nanoo!',\n",
              " '',\n",
              " '',\n",
              " '',\n",
              " ' Now for the down sides, and there are plenty... Who is Winston? what does he do?',\n",
              " '',\n",
              " '',\n",
              " ' He was great!',\n",
              " ' The story is not that good. The acting is pretty poor too. A 7.',\n",
              " '',\n",
              " '',\n",
              " ' Sadly, they stopped there. Not dead yet. Not dead yet. All in all, it stunk.',\n",
              " '',\n",
              " '',\n",
              " '',\n",
              " '',\n",
              " '',\n",
              " '',\n",
              " ' Not to mention that Jane Austen, and in particular P & P, is not about passion, sexual tension or love. It was so obviously trying to be a *serious* film. In which quest for blandness and weakness, she was ably matched by Matthew Macfayden.',\n",
              " '',\n",
              " '  The story is very trustworthy and powerful.',\n",
              " '',\n",
              " '',\n",
              " '',\n",
              " '',\n",
              " \" Alright. 2. 3. Sex. 4. 5. 7. 8. 9. It's easy.\",\n",
              " \" E.g. 'Backbeat'.\",\n",
              " '',\n",
              " '',\n",
              " ' No ifs, ands or buts.',\n",
              " ' It was dull and boring.',\n",
              " \" Who's origins are never revealed.\",\n",
              " '',\n",
              " ' You will be slightly amused.',\n",
              " ' P.S. - Down the Rabbit Hole\".',\n",
              " '',\n",
              " \" It's so lame it even gets boring, and really quick too.\",\n",
              " ' THIS IS NOT ONE.',\n",
              " ' And the scares are jolting.',\n",
              " \" Moral and literal garbage, get it? I couldn't tell).\",\n",
              " ' I remember this very well from my childhood, it was funny and sad and very beautiful.',\n",
              " ' Yes, God was trying to influence politics.',\n",
              " '',\n",
              " '',\n",
              " '',\n",
              " \" He looked deformed. This was trite, cliche-ridden and boring. It didn't. That's not funny.\",\n",
              " '',\n",
              " \" It didn't. Yeah it's like that.\",\n",
              " \" The soundtrack is excellent. It wasn't too long.\",\n",
              " '',\n",
              " ' This film is a delight. It is fantastic. It is literate.',\n",
              " ' However, The 700 Club is in a class by itself. They are truly a cult.',\n",
              " ' He is, therefore, impotent to do anything about it. His own HUBRIS is his undoing.',\n",
              " ' The imagery of the New World is optimistic, clever and highly imaginative. The dark reality I referred to is the Old World and the journey itself to the New World. in order to prove themselves as fit for the New World.',\n",
              " '',\n",
              " '',\n",
              " '',\n",
              " ' Overall very, VERY disappointing.',\n",
              " '  Ludicrous. The story is ridiculous. Oh yeah, the CGI is pretty cool.',\n",
              " ' Bad as in bad.',\n",
              " \" So I guess there's an unresolved quandary with the picture, no matter how you look at it. With that in mind, the owl scene was a hoot too. As for Flynn, it's interesting to note that a year earlier, he portrayed J.E.B.\",\n",
              " '',\n",
              " ' Nevertheless, an interesting story.',\n",
              " '',\n",
              " '  A brilliant horror film. Utterly gruesome and very scary too. It is simply brilliant. Utterly brilliant. Ten Out Of Ten.',\n",
              " ' Everything about it.',\n",
              " '',\n",
              " '',\n",
              " '',\n",
              " '  I have seen most, if not all of the Laurel & Hardy classic films.',\n",
              " \" It's on at 12:30 AM.\",\n",
              " '',\n",
              " '',\n",
              " '',\n",
              " ' fake fake fake.',\n",
              " '',\n",
              " ' hello. I am. this is sad.',\n",
              " '',\n",
              " '',\n",
              " ' Bad film-making is not \"different\", it\\'s just bad film-making.',\n",
              " ' To sum it up, it has an unusual plot, great acting, and ideas below the surface.',\n",
              " '',\n",
              " '',\n",
              " ' to the robot.',\n",
              " ' You guessed it, its Howard! Then, too, the script, the direction, and the production are very, very nice.',\n",
              " '',\n",
              " \" Here, in The Wind and the Lion, we see a wonderful rendering of America's own Imperial age.\",\n",
              " ' The singing just kept coming, one after the other.',\n",
              " '',\n",
              " '',\n",
              " ' Taken blindfolded to the secret room of the mastermind, he gives them orders on who to kill and how.',\n",
              " '',\n",
              " '',\n",
              " '',\n",
              " '',\n",
              " ' !',\n",
              " '',\n",
              " '',\n",
              " '',\n",
              " ' Buy the CD, if you must.',\n",
              " '',\n",
              " ' ).',\n",
              " ' It was pretty hilarious.',\n",
              " ' OH Night Heat!',\n",
              " '',\n",
              " ' He really sucked. Just ignore Thewlis.',\n",
              " '',\n",
              " '',\n",
              " '',\n",
              " '  This movie was so bad it was funny! Questions, questions.',\n",
              " ' A pretty good film.',\n",
              " '',\n",
              " '',\n",
              " ' But after about 10 minutes, we were sadly mistaken.',\n",
              " '',\n",
              " '',\n",
              " ' are breathtaking.',\n",
              " \" I'll tell you why. With bad songs. Not me. Aw, who am I kidding. I'm sure you do, too. Skip this.\",\n",
              " '',\n",
              " ' And that, in essence, is what\\'s wrong with \"Stranded In Space\". Sorry, guys, it didn\\'t work.',\n",
              " ' She is loud, ugly, rude, and overbearing. The Hound.',\n",
              " ' I was hooked instantly. Way to go, FX.',\n",
              " '',\n",
              " '',\n",
              " ' It is definitely an awful example of a film.',\n",
              " '  There is a difference between a \"film,\" and a \"movie.\" And a student movie, at that. This movie, however, has neither. This is a student movie, nothing more, nothing less. I am your audience, and I am willing to watch.',\n",
              " '',\n",
              " \" It's all about football and its funny, its really funny.\",\n",
              " '',\n",
              " ' There is no happiness, no joy, no laughter in this kibbutz.',\n",
              " ' Oh, well.',\n",
              " '',\n",
              " '',\n",
              " '',\n",
              " ' If he fails, others will follow.',\n",
              " \"  Fulci... Being Fulci flick, you need to know it's gory. If you are fun of the Fulci, make sure you check it out.\",\n",
              " '',\n",
              " '',\n",
              " \" overstated, misplaced and not at all funny) irony. Freddy's Dead. No laughs. No scares. No interest. No fun.\",\n",
              " '',\n",
              " '',\n",
              " '',\n",
              " '',\n",
              " '',\n",
              " ' Amy Poehler is so very annoying, too.',\n",
              " '',\n",
              " ' My vote is seven.',\n",
              " ' But I was wrong.',\n",
              " ' But none of it was illegal.',\n",
              " '',\n",
              " '  Yes, I call this a perfect movie.',\n",
              " '',\n",
              " '',\n",
              " '',\n",
              " ' But it stuck with me.',\n",
              " '',\n",
              " ' The acting was, of course, wonderful.',\n",
              " \" It simply isn't there.\",\n",
              " ' MYSTERY MEN. That sucks.',\n",
              " ' Yeah, we get it. Darn you, ape man! Man, who wants all that responsibility?',\n",
              " ' The movie, however, was still pretty good.',\n",
              " '',\n",
              " '',\n",
              " ' The results are not good.',\n",
              " '  witty. funny. a few.',\n",
              " \" It's Coward, Woolcott, and the dialogue you remember...\",\n",
              " '',\n",
              " '',\n",
              " ' No. But wonderful.',\n",
              " '',\n",
              " '',\n",
              " '',\n",
              " \" Her name is Joline, and this is her story. And when she marries Carl (Luke Wilson), it's forever. As Carmen, Patricia Velazquez is totally engaging, as well. 8/10.\",\n",
              " '  Ho-hum.',\n",
              " '',\n",
              " '',\n",
              " ' 3. 5. Possibly. Very probably.',\n",
              " '',\n",
              " '',\n",
              " '  Having been a Marine, I can tell you that the D.I.',\n",
              " ' This movie is the true example of how a psychological horror movie should be.',\n",
              " \" This is syrupy, mawkish drivel. We get it, dude. There's no crying in baseball.\",\n",
              " ' Hongshen Jia is in his mid-twenties. The abstract is out. The physicality is almost romantic, but is not. All his edges soften. Back home, lard peasant soap is fine with him now.',\n",
              " '',\n",
              " \" From then on it gets really ridiculous. I couldn't here. The Aliens are boring. The Predator-Alien is ridiculous. Oh I was shocked alright. It's filmed and paced badly.\",\n",
              " '',\n",
              " '',\n",
              " '',\n",
              " '',\n",
              " \" Then, we suddenly learn they're planning to rob their own business. Oh my, oh my!\",\n",
              " '',\n",
              " '',\n",
              " '',\n",
              " '',\n",
              " ' Flynn is downright magical here. A few of the sets are amazingly presented.',\n",
              " '',\n",
              " '',\n",
              " '',\n",
              " '',\n",
              " ' The photography was beautiful. But I am not surprised.',\n",
              " ' He, in turn, becomes infatuated with her and proposes to her.',\n",
              " ' This movie was BAD.',\n",
              " '',\n",
              " '',\n",
              " '',\n",
              " ' This time, he goes too far, and accidentally kills a suspect...',\n",
              " ' To boot, the comedy is not very funny and juvenile. Additionally, the film is not really realistic.',\n",
              " ' complete with a grainy, cheapish photo quality. Who is, or is meant to be in the shot?',\n",
              " '',\n",
              " '',\n",
              " '',\n",
              " ' The movie itself, unfortunately, was quite a letdown.',\n",
              " '',\n",
              " ' Enjoy!',\n",
              " ' Two topless scenes.',\n",
              " ' They leave a living witness to their crime, Amanda. Eventually Julia discovers the truth about Kevin.',\n",
              " ' Uhm, why? Again, why?',\n",
              " '',\n",
              " '',\n",
              " ' Soon the object is in the open. \"Do not open\". And finally the end is as open as an end can be.',\n",
              " '',\n",
              " ' Not recommended.',\n",
              " ' We suck.',\n",
              " '',\n",
              " ' Mark Damon is surprisingly good in this movie too.',\n",
              " \" And, oh yes, there's romance, and a little sadness too. And Molly, of course is Mabel. In 1947, The Road to Hollywood, used some of Sennett's Crosby films.\",\n",
              " \" When Roberts left. And if they weren't real, they should have been.\",\n",
              " \" Boy, what a terrible film. There's no catalyst in this story. They talk and talk and then Julie suddenly sprints off in mid-sentence. The comedy bits are unfunny and cringe-worthy. Brilliant. The musical moments. Julie looks dazed, like she's on Valium.\",\n",
              " ' As we say in Spain, common sense is one of the least common senses. Indeed, as an actor, he should not be trusted in anything which is not a TV series.',\n",
              " ' I will never look at them the same again.',\n",
              " ' However, it is seldom every seen on cable.',\n",
              " '',\n",
              " ' If you have time, check this one out.',\n",
              " ' However, it is pleasant film and is enjoyable viewing.',\n",
              " \" If there's one body of work that has been done (and done and done and done), it's Shakespeare's.\",\n",
              " \" 'You lied to me,' he yells out, slamming the professor's forehead with a pan. That's too bad for those of us who can watch this over and over, and like it.\",\n",
              " '',\n",
              " ' X and Y are friends. X is sleeping with Z. Y sleeps with Z as well. Oh you figure it out.',\n",
              " '',\n",
              " '',\n",
              " \" No argument there. Nasty, nasty stuff. Oh momma, I wish it weren't so... Again.\",\n",
              " ' I vote for the latter.',\n",
              " ' Avoid this if you can. Grade D.',\n",
              " '',\n",
              " ' The ending is superb.',\n",
              " '',\n",
              " ' All of this, so far, is accurate. This is complete poppycock.',\n",
              " ' Geez, have fun with it, be creative! !',\n",
              " ' AND I AM ONLY UP TO STAGE THREE!!!!!',\n",
              " '',\n",
              " '',\n",
              " ' Truly excellent, and a must see.',\n",
              " '',\n",
              " '',\n",
              " '',\n",
              " ' Their is no doubt about that. Which can only be named Awesome, Completely Awesome.',\n",
              " '',\n",
              " ' Pfeh.',\n",
              " ' The writing is horrid.',\n",
              " ' Especially in the beginning, there were a number of dialogues which had no subtitles at all.',\n",
              " '',\n",
              " '',\n",
              " ' \", and then promptly wastes the mother.',\n",
              " '  I am so disappointed. Depressing and same old, same old.',\n",
              " '',\n",
              " \" Anyway, it's fascinating reading. Horrifying story, excellent movie.\",\n",
              " '',\n",
              " ' You have to see it for yourself, which is not easy these days.',\n",
              " '',\n",
              " ' But this is not a tour, and there are no stopovers for soaking in the sights.',\n",
              " '',\n",
              " '',\n",
              " ' As for the awards themselves   Best Supporting Actress - Cate Blanchett . Most predictable award of the night . Yawn   Best Actress - Hilary Swank .',\n",
              " ' almost accidentally. what a choice. \".Ask yourself would you do it. Then learn about the contestants, their motives and start guessing.',\n",
              " ' !',\n",
              " '',\n",
              " '',\n",
              " '',\n",
              " '',\n",
              " '  I like Ghost stories.',\n",
              " ' * Why are they all lesbians? and why does she shoot herself? How? Why?',\n",
              " ' Mostly, I felt like gagging. Be prepared to wait, however. Or at the very least, watch it muted.',\n",
              " ' Oi, Vai!',\n",
              " '',\n",
              " \" First of all, it was dumbed down. And then there's the acting. It was more like they were acquaintaces. Dark. It's a classic of Bradbury.\",\n",
              " '',\n",
              " ' Despondent, we viewed on. They were nearly swept out to sea. Sorry Jane.',\n",
              " ' !',\n",
              " ' And last but not least, Mr. If you do, is worth your watch.',\n",
              " '',\n",
              " ' Never.',\n",
              " ' I was not disappointed in the least. I certainly did.',\n",
              " '',\n",
              " ' The ending is extremely bad.',\n",
              " '',\n",
              " '',\n",
              " ' The acting is poetical when it should be realistic, and realistic when it should be poetical.',\n",
              " ' In the case of Goldeneye, I had more reservations than normal. Your missions will be many, the danger extreme. Good day, James.',\n",
              " ' He attempts, more or less, to fend them off, with varying results.',\n",
              " '',\n",
              " '',\n",
              " ' Warner.',\n",
              " '  This movie is lame and not funny at all.',\n",
              " '',\n",
              " \" Oh, and it's in Malibu. But hey, at least the set's pretty.\",\n",
              " '',\n",
              " '',\n",
              " '',\n",
              " '',\n",
              " ' B.S.',\n",
              " '',\n",
              " \" However, it's troubles don't end there.\",\n",
              " '',\n",
              " '',\n",
              " '',\n",
              " '',\n",
              " ' They drink him up, strangle him, and then toss him down a well.',\n",
              " ' Simply wonderful. It was a movie.',\n",
              " '  Oh, my goodness. So far, six eyes, six ears, and three tongues. At 87 minutes, Sanctimony is really pushing it.',\n",
              " \" It's the only flaw I find in the film.\",\n",
              " ' If they wanted to make a vampire movie, fine. Even if you wanted to be inspired by these novels, fine.',\n",
              " '',\n",
              " '',\n",
              " ' with a great story. lol. its very good.',\n",
              " '',\n",
              " \" In this film, the Stooges they didn't yet have the right chemistry. Overall, the film is rather dull and disappointing. See the film, you'll see that I mean!\",\n",
              " ' The acting is spotty at best.',\n",
              " '',\n",
              " '',\n",
              " ' It has no guns. Peace is not desperate.',\n",
              " ' The graphics were rudimentary.',\n",
              " '',\n",
              " ' The casting is ludicrous.',\n",
              " '',\n",
              " '',\n",
              " ' The film then ends.',\n",
              " '',\n",
              " '',\n",
              " ' And it does so very subtly. Yeah. Like a dance.',\n",
              " ' You will make yourself stupider for having watched it.',\n",
              " ' The title of the movie \"Phase IV\" is something of a mystery.',\n",
              " '',\n",
              " ' D.A. Al Swanson.',\n",
              " '',\n",
              " '',\n",
              " '',\n",
              " ' But all in all a excellent movie.',\n",
              " '',\n",
              " \"  I'll not comment a lot, what's to???\",\n",
              " '  This movie is a riot. All the characters are great. No victims in this movie. Just some of the mediocre ones.',\n",
              " ' All of them are suspect. There is no discernible \"depth\" to it. Oops.',\n",
              " ' Ultimately, it is a poor documentary and a poor film.',\n",
              " '',\n",
              " '',\n",
              " ' 8.5 out of 10, rounded up to 9 for IMDb.',\n",
              " '',\n",
              " '',\n",
              " ' No. Really.',\n",
              " '',\n",
              " ' I only laughed a few times.',\n",
              " ' He RAPED Artemisia. It was not love, it was rape.',\n",
              " \" After all, it's a film about ants. Much amusement comes out of these scenes, and much amusement comes out of these circus troupe bugs.\",\n",
              " ' This version is no different.',\n",
              " '',\n",
              " ' Not so with this.',\n",
              " '',\n",
              " ' She really sucks you into her life. The movie is never boring.',\n",
              " ' Bravo. I do have a lot of those.',\n",
              " '',\n",
              " \" It's quite effective.\",\n",
              " '',\n",
              " ' Very moving.',\n",
              " '',\n",
              " '',\n",
              " '',\n",
              " \" Ri'Chard is great.\",\n",
              " \"  First, let me just comment on what I liked about the movie. There, that is the last nice thing I have to say about this film. Jor-el wasn't all-wise, he was just a scientist. This movie does not deserve to make any money.\",\n",
              " '',\n",
              " '',\n",
              " ' No.',\n",
              " '',\n",
              " ' it was OK tho.',\n",
              " '  I am a huge fan of the Farcry Game, HUGE fan.',\n",
              " '',\n",
              " '',\n",
              " ' I am very angry at this movie. How...dare...they? Think. Remember.',\n",
              " ' Strictly for the car fans, or those who like their movies with countless of bevy beauties who pimp their bodies without any speaking lines.',\n",
              " '',\n",
              " ' Bullitt has a beginning that builds builds builds.',\n",
              " '',\n",
              " '',\n",
              " '',\n",
              " '',\n",
              " '',\n",
              " '',\n",
              " '',\n",
              " '',\n",
              " ' Yes.',\n",
              " '  What a horrible, horrible film. Not that I saw much.',\n",
              " '',\n",
              " \" (Too many wisecracks, that's for sure.)\",\n",
              " '',\n",
              " '',\n",
              " '',\n",
              " ' The second movie, Hypercube was a massive disappointment. Still, for being fairly entertaining, I rated it a 5 out of 10.',\n",
              " '',\n",
              " ' These words have been added by the translators and can be dropped & the mean of the entire verse changes. These writings look like one long word & the translators added all of the above.',\n",
              " ' But save yourself...',\n",
              " '',\n",
              " \" Check out Sutherland's toilet in a particular scene,, very unusual.\",\n",
              " '',\n",
              " '',\n",
              " ' This is simply not true.',\n",
              " '',\n",
              " ' He is unforgettable.',\n",
              " '',\n",
              " ' It is not funny.',\n",
              " ' \"Sliding Doors,\" \"Me, Myself, I,\" etc.',\n",
              " ' Sure, it was a momentous period in the movie. Well, in many ways that was a major part of the plot in the movie.',\n",
              " '',\n",
              " '',\n",
              " ' Not funny.',\n",
              " '',\n",
              " '',\n",
              " '',\n",
              " '',\n",
              " '',\n",
              " '',\n",
              " ' (No. . . but i digress.)',\n",
              " ' There is almost a hint of mercy, but it is not coming from Marjorie.',\n",
              " '',\n",
              " '',\n",
              " '',\n",
              " ' The result was a wonderful movie.',\n",
              " '',\n",
              " '',\n",
              " '',\n",
              " ' In fact, he just seemed to prattle pointlessly.',\n",
              " \" It's only a problem when it isn't funny - as in this show.\",\n",
              " \" She's the worst of them all. I hate her.\",\n",
              " ' This movie sucked.',\n",
              " '',\n",
              " '',\n",
              " '',\n",
              " '',\n",
              " '',\n",
              " ' Both excellent.',\n",
              " '',\n",
              " '',\n",
              " ' Not a real criticism of globalism.',\n",
              " '  Stan Laurel and Oliver Hardy are the most famous comedy duo in history, and deservedly so, so I am happy to see any of their films.',\n",
              " ' OK there it is.',\n",
              " ' The ending is of course, a happy one. and the screen fades to black  Classic ending, by the way.',\n",
              " '',\n",
              " ' There is much about this film that is wonderful and fantastic. I rated this film an 8/10.',\n",
              " '',\n",
              " '',\n",
              " '',\n",
              " '',\n",
              " '',\n",
              " '',\n",
              " \" It's really rather messy though.\",\n",
              " ' I now have a daughter that is 12.',\n",
              " ' But not with Holes.',\n",
              " '  I cannot hate on the show. Sorry.',\n",
              " ' Ever. This was just bad.',\n",
              " ' !',\n",
              " '',\n",
              " '  So wonderful, so quirky, so romantic, so Italian.',\n",
              " '',\n",
              " '',\n",
              " ' !',\n",
              " '',\n",
              " ' A quick search for the killer proves fruitless, as does a search for a missing local woman.',\n",
              " ' Overall, this movie was a waste of time.',\n",
              " ' Truly is bad cinematography.',\n",
              " '',\n",
              " ' I have no clue.',\n",
              " '  This is my first Deepa Mehta film. Yet what I loved about the film was its screenplay by Ms Mehta, not her direction.',\n",
              " '',\n",
              " '',\n",
              " '',\n",
              " '',\n",
              " '',\n",
              " ' Sorry but NO! !',\n",
              " '',\n",
              " '',\n",
              " ' This was something of an achievement, like going from \"F\" to \"F-minus.\"',\n",
              " ' For what it is, its an A!',\n",
              " ' It just goes on and on.',\n",
              " '',\n",
              " '',\n",
              " ' The encounters were lame.',\n",
              " '',\n",
              " '',\n",
              " '',\n",
              " '',\n",
              " '',\n",
              " '',\n",
              " \" The film is just bad for so many reasons. It's interesting to note her hypocrisy too. Watch at your own peril.\",\n",
              " '',\n",
              " '',\n",
              " '',\n",
              " ' How true these words are. Contradictions, indeed.',\n",
              " ' This film is awful. It is not scary either.',\n",
              " '',\n",
              " ' Not one.',\n",
              " ' The others are clearly not in her league.',\n",
              " '',\n",
              " ' Allen is Allen...',\n",
              " '',\n",
              " \" (Not exactly my idea of fun, but hey, these are characters in an '80s horror film. Logic has no place here.) This is where the movie falls apart.\",\n",
              " ' At least not in my life.',\n",
              " ' That really is no easy work.',\n",
              " ' There is no cohesive story at all. There is no story here.',\n",
              " '',\n",
              " \" The plot, for starters, is really faulty. But it's real, dammit. It makes all the difference. way.\",\n",
              " '',\n",
              " ' L.A.V.',\n",
              " '',\n",
              " '',\n",
              " '',\n",
              " '',\n",
              " ' THIS is the formula that they are using.',\n",
              " '',\n",
              " '',\n",
              " ' On the surface, this story is a pulp scifi murder mystery.',\n",
              " ' What this film really is, is...depressing.',\n",
              " '',\n",
              " ' !',\n",
              " '',\n",
              " ' He is a true actor. They need each other.',\n",
              " '',\n",
              " '',\n",
              " ' His movies are not discussed well. As a result, we may get his own opinion about his works.',\n",
              " \" This film isn't. I have had more fun doing the laundry.\",\n",
              " '  worst. movie. EVER.',\n",
              " '',\n",
              " ' !',\n",
              " '',\n",
              " ' \"Gee, ain\\'t I cute?\" she asks, after the Barber gives her a make-over. Too cute by far, is the answer. Jack Oakie is great as Napaloni, the fascist dictator of Bacteria. If Napaloni is silly and ineffective, how can we fear him?',\n",
              " '',\n",
              " '',\n",
              " '',\n",
              " '',\n",
              " '',\n",
              " '',\n",
              " ' moment.',\n",
              " '',\n",
              " '',\n",
              " ' On the other hand, this is hardly in the category of anti-drug propaganda. This is really the primary issue when it comes to drugs, yet this program ignores it.',\n",
              " '',\n",
              " '',\n",
              " \" Hmmm. Now there's a novel idea.\",\n",
              " '',\n",
              " ' At other times, colors are washed out. The Narrator is played by hunky Anthony Piana, in his 2nd film.',\n",
              " ' Not I.',\n",
              " '',\n",
              " ' In this movie, they are not!',\n",
              " '',\n",
              " ' Its all over.',\n",
              " ' Marry in haste, repent at leisure...',\n",
              " '',\n",
              " '',\n",
              " ' There were mistakes, ones that he pointed out and others that he was ashamed to point out. Then there was Jeri Ryan. This was her first film, so can I be too harsh? Overall, this film felt like it was missing something. ), which overall harmed the intensity of the film.',\n",
              " ' And of course, there was the gore. Loved it.',\n",
              " '',\n",
              " ' But I digress.',\n",
              " '',\n",
              " ' If you are in to that be prepared to enjoy yourself.',\n",
              " '',\n",
              " '',\n",
              " ' Eastwood plays Cpl. Eastwood is not a nice man.',\n",
              " ' OMG!',\n",
              " ' )and many, many other fantastic things. No way. But for 1936 most are very impressive. Lastly, the acting is pretty good in this serial.',\n",
              " '',\n",
              " '',\n",
              " '',\n",
              " ' this sucks.',\n",
              " ' Rating: 3/10.',\n",
              " '',\n",
              " ' All I will say about that is that it was a musical.',\n",
              " ' 1. Anybody who disagrees with me, ask your self this.',\n",
              " '',\n",
              " '',\n",
              " ' Not to be missed. \"), surely stand as her best.',\n",
              " ' The story is based upon the story of the grinch. A SOLID 10/10.',\n",
              " '',\n",
              " '',\n",
              " ' Not a bad effort, but not the best of the lot, either.',\n",
              " '',\n",
              " '',\n",
              " '  This is the Who at their most powerful.',\n",
              " '',\n",
              " '',\n",
              " ' Check it out.',\n",
              " ' The story to the film is not all that, but that is not a criticism. This is a film about people.',\n",
              " '',\n",
              " '',\n",
              " ' Almost three hours long, and yes it can get repulsive.',\n",
              " '',\n",
              " '  I enjoyed it.',\n",
              " '',\n",
              " ' The scenes in Bath are just how they should be. I hate her. some of the script is peculiar.',\n",
              " '',\n",
              " '',\n",
              " '  Sigh. I mean, what is this?',\n",
              " '',\n",
              " ' I loved this movie.',\n",
              " '',\n",
              " \" Unfortunately, it didn't.\",\n",
              " ' It is a very funny and clever movie.',\n",
              " '',\n",
              " \" Only there's no writing, or directing talent on display here. Howlingly bad dialogue. Overacting in the extreme. Yeah, that's the ticket.\",\n",
              " '',\n",
              " '',\n",
              " '',\n",
              " ' The Music.',\n",
              " '',\n",
              " '',\n",
              " '',\n",
              " '',\n",
              " ' here in Australia.',\n",
              " '',\n",
              " ' But with this film, you want to watch the flame slowly engulf your entire body.',\n",
              " '',\n",
              " '',\n",
              " ' and yet, it does not succeed in demonizing Nolan at all. However, it never goes there.',\n",
              " \"  Why, o' WHY!\",\n",
              " '',\n",
              " \" I don't think so.\",\n",
              " '',\n",
              " '',\n",
              " ' Acting was awful.',\n",
              " '',\n",
              " ' The ending is very predictable but satisfying.',\n",
              " ' It really stinks.',\n",
              " '',\n",
              " '  This film is dreadful.',\n",
              " '',\n",
              " ' Pleeease. Knock me out.',\n",
              " ' All the stories were great though.',\n",
              " '',\n",
              " ' I just loved it. Loved it.',\n",
              " '',\n",
              " ' Well, they are only partly right.',\n",
              " '',\n",
              " ' Well, unfortunately, it can.',\n",
              " '',\n",
              " '',\n",
              " '',\n",
              " '',\n",
              " '',\n",
              " ' he turns her down.',\n",
              " ' !',\n",
              " '',\n",
              " '',\n",
              " \" And, a great deal of the elusive dialogue doesn't help matters.\",\n",
              " '',\n",
              " '',\n",
              " ' Just painful. Avoid.',\n",
              " '',\n",
              " ' Get this, watch it, learn from it.',\n",
              " ' To me, this is what great film-making is all about.',\n",
              " ' Either way, it was funny as hell.',\n",
              " '',\n",
              " ' Then we have The Sopranos. Then we have the story, never have i been so sucked into a T.V show before.',\n",
              " '',\n",
              " ' Seriously, is this really that hard to believe.',\n",
              " '',\n",
              " ' And you know what, it is a huge improvement on the Geraldine McEwan version.',\n",
              " \" And they didn't!\",\n",
              " '',\n",
              " '',\n",
              " '',\n",
              " '',\n",
              " ' . . . . To Live. Peace.',\n",
              " ' Yeah, right...',\n",
              " \" But there's still a happy ending, which befuddled me a bit. Innocence can only be so interesting.\",\n",
              " ' 2. 3.',\n",
              " '',\n",
              " ' \"), but... this was just so incredibly annoying.',\n",
              " '',\n",
              " '',\n",
              " '',\n",
              " ' The family dynamics are funny, and all in all the same you see in most comedy shows.',\n",
              " \" It's not scary, there's no nudity, there's no tension or atmosphere & the special effects are awful. ), a few bloody wounds & a severed arm, big deal.\",\n",
              " ' Script was good without being too wordy. Recommended.',\n",
              " ' I highly recommend this film.',\n",
              " '',\n",
              " ' I mean seriously. Oh and what \"characters\" they are. No idea. In summary a complete mess of a film.',\n",
              " '',\n",
              " ' and \"Oh my God\".',\n",
              " '',\n",
              " '',\n",
              " '',\n",
              " '',\n",
              " '',\n",
              " '',\n",
              " '',\n",
              " ' I do.',\n",
              " '',\n",
              " '',\n",
              " '',\n",
              " '',\n",
              " '',\n",
              " '',\n",
              " '',\n",
              " '',\n",
              " ' is not a terrible movie, but it IS quite forgettable.',\n",
              " '  First off, I have no idea how this movie made it to the big screen.',\n",
              " '',\n",
              " '',\n",
              " '',\n",
              " '',\n",
              " '',\n",
              " '',\n",
              " ' Really kind of lovable, and very funny. Ridiculous and funny.',\n",
              " '',\n",
              " '',\n",
              " ' . . . .',\n",
              " ' The fights are also shot poorly. Or the other crew in my opinion.',\n",
              " '',\n",
              " ' jokes. They failed.',\n",
              " '',\n",
              " '',\n",
              " '',\n",
              " ' Stupid! Stupid!',\n",
              " '',\n",
              " ' Nevertheless, this is a damn good film.',\n",
              " ' No, but who cares! Otherwise, a must-miss.',\n",
              " '',\n",
              " '',\n",
              " '',\n",
              " ' I can recommend it, just not enthusiastically.',\n",
              " '',\n",
              " \" He's what a vampire should be.\",\n",
              " ' But anyhow, onto the review.',\n",
              " '',\n",
              " ' ).',\n",
              " '',\n",
              " ' You can decide. Most unsatisfying.',\n",
              " ' Comedy relies on timing.',\n",
              " '',\n",
              " '',\n",
              " ' !',\n",
              " ' Of course not.',\n",
              " '',\n",
              " '',\n",
              " '',\n",
              " '',\n",
              " ' !',\n",
              " ' Salva shows he is a natural for the reality show. Ultimately, Salva is the victim of his own success in the end.',\n",
              " '',\n",
              " ' ), it blew me away.',\n",
              " '',\n",
              " '',\n",
              " '',\n",
              " '',\n",
              " '',\n",
              " ' I mean... why? The answer is no.',\n",
              " '',\n",
              " '',\n",
              " '',\n",
              " '',\n",
              " '',\n",
              " ' But the rat, yes, the big rat. Really, you need to rent it and see for yourself. But not for more than 99¢, OK?',\n",
              " ' Boo.',\n",
              " '',\n",
              " '',\n",
              " '',\n",
              " '',\n",
              " ' I was stone myself.\"',\n",
              " ' and shoot outs.',\n",
              " '',\n",
              " '',\n",
              " '',\n",
              " '',\n",
              " '',\n",
              " '',\n",
              " \" Seriously, though, Bloody Birthday is based on a ridiculous premise, but it more than makes up for that with it's originality.\",\n",
              " ' \"Not so fast\", is what she seems, verbally and non-verbally, to answer him all the time. In fact, Suyin\\'s Chinese portion would never allow her such a level of pragmatism. It is gone, completely gone!',\n",
              " ' The first time i watched it, i was blind.',\n",
              " '',\n",
              " '',\n",
              " ' The love story of Christy is very well-done, trustful. Really a career taint for him, what a pity!',\n",
              " '',\n",
              " '',\n",
              " '',\n",
              " ' Lordi is OVER.',\n",
              " '',\n",
              " '',\n",
              " '',\n",
              " ' society. himself.',\n",
              " '',\n",
              " ' !',\n",
              " ' No. Okay, a soppy romance. No, because it makes no sense. The love story collapses.',\n",
              " '',\n",
              " ' Otherwise, its a totally different movie. Nobody really dies.',\n",
              " ' Its really not.',\n",
              " ' Case closed.',\n",
              " '',\n",
              " '',\n",
              " ' It was extremely funny.',\n",
              " '',\n",
              " '  A film for mature, educated audiences...',\n",
              " ' Williams gets an idea to remake history, by replaying the GAME ! One of Robin Williams best UNDERSTATED performances, the chemistry between Robin and Russell is magic .',\n",
              " \" It's illogical.\",\n",
              " ' Capt. save it for later).',\n",
              " ' So.',\n",
              " '',\n",
              " '',\n",
              " ' And with a good sense of humour.',\n",
              " ' But that in times, it can be aggravating. She trying to discredit him. That is thwarted, and she kicks Larry off the train.',\n",
              " '  Yes, it is a bit cheesy.',\n",
              " '',\n",
              " '',\n",
              " '',\n",
              " '',\n",
              " '',\n",
              " '',\n",
              " ' OK so pros and cons.',\n",
              " '',\n",
              " '',\n",
              " '',\n",
              " ' But the commentary is, in my view, very one-sided throughout.',\n",
              " ' Rushmore.',\n",
              " '',\n",
              " '',\n",
              " ' I felt his every concern keenly. His screen time was brief, but notable. 9 out of 10.',\n",
              " '',\n",
              " ' !',\n",
              " '',\n",
              " '  Possible Spoilers, Perhaps. In the original, Cinderella was kind and loving. That is the anti-Cinderella. In the first one, Anastasia was evil. In the second one, she is good.',\n",
              " ' Go see it because it is a good movie!',\n",
              " '',\n",
              " '',\n",
              " ' Not so with \"Viva la Bam\".',\n",
              " \" It didn't.\",\n",
              " '',\n",
              " '',\n",
              " ' Though there are losses, the human will to be just ordinarily human at last prevails.',\n",
              " '',\n",
              " '  A fabulous book about a fox and his family who does what foxs do.',\n",
              " ' !',\n",
              " '',\n",
              " '  This is a very noir kind of episode. She looks terrific here.',\n",
              " ' Its also a casket match.',\n",
              " ' \"Yeah.',\n",
              " ' I guarantee it.',\n",
              " ' A profoundly uplifting film.',\n",
              " '  This movie was way over-hyped.',\n",
              " ' Interesting. Gary Busey was creepy as an army LT.',\n",
              " \" (Okay, it IS pretty bad, but it's bad in a clichéd, wooden, professional way). It's bad, but it isn't bad in a silly, humorous or interesting way.\",\n",
              " '',\n",
              " '',\n",
              " ' But on starting to view it, then I was hooked.',\n",
              " ' Rent it. Buy it. Always.',\n",
              " '  I hated it.',\n",
              " '',\n",
              " ' believe me, anything is better than this movie. make any excuse you can, to avoid this film.',\n",
              " ' - The blonde girl really is the stupid one. Instead, they just keep shooting into the air.',\n",
              " ...]"
            ]
          },
          "metadata": {},
          "execution_count": 58
        }
      ]
    },
    {
      "cell_type": "markdown",
      "metadata": {
        "id": "w2zGxZ5llKvp"
      },
      "source": [
        "# COSINE"
      ]
    },
    {
      "cell_type": "code",
      "metadata": {
        "id": "DtVxtICp9EYW"
      },
      "source": [
        "df_cosine = df_sum"
      ],
      "execution_count": 59,
      "outputs": []
    },
    {
      "cell_type": "code",
      "metadata": {
        "id": "RhSMSIcBlM_y"
      },
      "source": [
        "from nltk.corpus import stopwords\n",
        "import numpy as np\n",
        "from nltk.cluster.util import cosine_distance\n",
        "import networkx as nx"
      ],
      "execution_count": 60,
      "outputs": []
    },
    {
      "cell_type": "code",
      "metadata": {
        "id": "mdpUDWN6PxWi"
      },
      "source": [
        "def read_text(text):\n",
        "  article = text.split(\".\")\n",
        "  # print(article)\n",
        "  sentences = []\n",
        "  for sentence in article:\n",
        "    sentences.append(sentence.replace(\"[^a-zA-Z]\", \" \").split(\" \"))\n",
        "  sentences.pop() \n",
        "  # print(sentences)\n",
        "  return sentences"
      ],
      "execution_count": 61,
      "outputs": []
    },
    {
      "cell_type": "code",
      "metadata": {
        "id": "RZmSlcGdQwaU"
      },
      "source": [
        "def sentence_similarity(sent1, sent2, stopwords=None):\n",
        "    if stopwords is None:\n",
        "        stopwords = []\n",
        " \n",
        "    sent1 = [w.lower() for w in sent1]\n",
        "    sent2 = [w.lower() for w in sent2]\n",
        " \n",
        "    all_words = list(set(sent1 + sent2))\n",
        " \n",
        "    vector1 = [0] * len(all_words)\n",
        "    vector2 = [0] * len(all_words)\n",
        " \n",
        "    # build the vector for the first sentence\n",
        "    for w in sent1:\n",
        "        if w in stopwords:\n",
        "            continue\n",
        "        vector1[all_words.index(w)] += 1\n",
        " \n",
        "    # build the vector for the second sentence\n",
        "    for w in sent2:\n",
        "        if w in stopwords:\n",
        "            continue\n",
        "        vector2[all_words.index(w)] += 1\n",
        " \n",
        "    return 1 - cosine_distance(vector1, vector2)"
      ],
      "execution_count": 62,
      "outputs": []
    },
    {
      "cell_type": "code",
      "metadata": {
        "id": "e-dsYI6mQKTl"
      },
      "source": [
        "def build_similarity_matrix(sentences, stop_words):\n",
        "    # Create an empty similarity matrix\n",
        "    similarity_matrix = np.zeros((len(sentences), len(sentences)))\n",
        " \n",
        "    for idx1 in range(len(sentences)):\n",
        "        for idx2 in range(len(sentences)):\n",
        "            if idx1 == idx2: #ignore if both are same sentences\n",
        "                continue \n",
        "            similarity_matrix[idx1][idx2] = sentence_similarity(sentences[idx1], sentences[idx2], stop_words)\n",
        "    return similarity_matrix"
      ],
      "execution_count": 63,
      "outputs": []
    },
    {
      "cell_type": "code",
      "metadata": {
        "id": "yRkifTITQOv3"
      },
      "source": [
        "def generate_summary(file_name, top_n=5):\n",
        "    stop_words = stopwords.words('english')\n",
        "    summarize_text = []\n",
        "\n",
        "    # Step 1 - Read text anc split it\n",
        "    sentences =  read_text(file_name)\n",
        "\n",
        "    # Step 2 - Generate Similary Martix across sentences\n",
        "    sentence_similarity_martix = build_similarity_matrix(sentences, stop_words)\n",
        "\n",
        "    # Step 3 - Rank sentences in similarity martix\n",
        "    sentence_similarity_graph = nx.from_numpy_array(sentence_similarity_martix)\n",
        "    scores = nx.pagerank(sentence_similarity_graph)\n",
        "    # print(scores)\n",
        "\n",
        "    # Step 4 - Sort the rank and pick top sentences\n",
        "    ranked_sentence = sorted(((scores[i],s) for i,s in enumerate(sentences)), reverse=True)    \n",
        "\n",
        "    for i in range(top_n):\n",
        "      # print(\"---\", ranked_sentence[i][1])\n",
        "      summarize_text.append(\" \".join(ranked_sentence[i][1]))\n",
        "\n",
        "    return(summarize_text)\n",
        "    # Step 5 - Offcourse, output the summarize texr\n",
        "    # print(\"Summarize Text: \\n\", \". \".join(summarize_text))"
      ],
      "execution_count": 64,
      "outputs": []
    },
    {
      "cell_type": "code",
      "metadata": {
        "id": "q28aXywimdzq"
      },
      "source": [
        "def read_text(arr_text):\n",
        "  sentences = []\n",
        "  for sentence in arr_text:\n",
        "    # print(sentence)\n",
        "    sentences.append(sentence.replace(\"[^a-zA-Z]\", \" \").split(\" \"))\n",
        "    # print(sentences)\n",
        "\n",
        "  # sentences.pop() \n",
        "  # print(sentences)\n",
        "  return sentences"
      ],
      "execution_count": 66,
      "outputs": []
    },
    {
      "cell_type": "code",
      "metadata": {
        "id": "uApUuxNkhUMu"
      },
      "source": [
        "summ_cosine = []\n",
        "for i in range(len(df_cosine)):\n",
        "  # print(i)\n",
        "  summ_cosine.append(generate_summary( df_cosine['review_split_sentence'][i],1))"
      ],
      "execution_count": null,
      "outputs": []
    },
    {
      "cell_type": "code",
      "metadata": {
        "id": "0q1VBzAN-KP4"
      },
      "source": [
        "print(summ_cosine[0])"
      ],
      "execution_count": null,
      "outputs": []
    },
    {
      "cell_type": "markdown",
      "metadata": {
        "id": "ehTBavrj6pjS"
      },
      "source": [
        "# T5 Algorithm"
      ]
    },
    {
      "cell_type": "code",
      "metadata": {
        "id": "QqQWgyjC6xGK"
      },
      "source": [
        "rom transformers import AutoTokenizer\n",
        "\n",
        "tokenizer = AutoTokenizer.from_pretrained('t5-base')\n",
        "\n",
        "def tokenize(batch):\n",
        "    tokenized_input = tokenizer(batch['source'], padding='max_length', truncation=True, max_length=max_source)\n",
        "    tokenized_label = tokenizer(batch['target'], padding='max_length', truncation=True, max_length=max_target)\n",
        "\n",
        "    tokenized_input['labels'] = tokenized_label['input_ids']\n",
        "\n",
        "    return tokenized_input\n",
        "\n",
        "train_dataset = train_dataset.map(tokenize, batched=True, batch_size=512)\n",
        "val_dataset = val_dataset.map(tokenize, batched=True, batch_size=len(val_dataset))\n",
        "\n",
        "train_dataset.set_format('numpy', columns=['input_ids', 'attention_mask', 'labels'])\n",
        "val_dataset.set_format('numpy', columns=['input_ids', 'attention_mask', 'labels'])"
      ],
      "execution_count": null,
      "outputs": []
    },
    {
      "cell_type": "code",
      "metadata": {
        "id": "eJq8iRar7AN3"
      },
      "source": [
        "import pandas as pd\n",
        "\n",
        "df = df_sum\n",
        "\n",
        "source_text = df['source']\n",
        "target_text = df['target']\n",
        "\n",
        "tokenized_source_text = tokenizer(list(source_text), truncation=False, padding=False)\n",
        "tokenized_target_text = tokenizer(list(target_text), truncation=False, padding=False)\n",
        "\n",
        "max_source = 0\n",
        "for item in tokenized_source_text['input_ids']:\n",
        "    if len(item) > max_source:\n",
        "        max_source = len(item)\n",
        "\n",
        "max_target = 0\n",
        "for item in tokenized_target_text['input_ids']:\n",
        "    if len(item) > max_target:\n",
        "        max_target = len(item)"
      ],
      "execution_count": null,
      "outputs": []
    },
    {
      "cell_type": "code",
      "metadata": {
        "id": "RTwtW3x07EzL"
      },
      "source": [
        "from transformers import T5ForConditionalGeneration, Trainer, TrainingArguments\n",
        "\n",
        "model = T5ForConditionalGeneration.from_pretrained('t5-base')\n",
        "\n",
        "output_dir = 'your/output/dir'\n",
        "\n",
        "training_args = TrainingArguments(\n",
        "    output_dir=output_dir,\n",
        "    num_train_epochs=10,\n",
        "    per_device_train_batch_size=8,\n",
        "    per_device_eval_batch_size=8,\n",
        "    eval_accumulation_steps=1, \n",
        "    prediction_loss_only=True, \n",
        "    learning_rate=0.001,\n",
        "    evaluation_strategy='steps',\n",
        "    save_steps=1000, \n",
        "    save_total_limit=1, \n",
        "    remove_unused_columns=True, \n",
        "    run_name='run_name', \n",
        "    logging_steps=1000,\n",
        "    eval_steps=1000, \n",
        "    logging_first_step=False, \n",
        "    load_best_model_at_end=True, \n",
        "    metric_for_best_model=\"loss\", \n",
        "    greater_is_better=False \n",
        ")\n",
        "\n",
        "trainer = Trainer(\n",
        "    model=model,\n",
        "    args=training_args,\n",
        "    train_dataset=train_dataset,\n",
        "    eval_dataset=val_dataset\n",
        ")\n",
        "\n",
        "trainer.train()\n",
        "trainer.save_model(output_dir + '/model')"
      ],
      "execution_count": null,
      "outputs": []
    },
    {
      "cell_type": "code",
      "metadata": {
        "id": "RRqzAaSK7IAR"
      },
      "source": [
        "import torch\n",
        "\n",
        "print(\"input:\")\n",
        "input_text = input()\n",
        "\n",
        "with torch.no_grad():\n",
        "    tokenized_text = tokenizer(input_text, truncation=True, padding=True, return_tensors='pt')\n",
        "\n",
        "    source_ids = tokenized_text['input_ids'].to(device, dtype = torch.long)\n",
        "    source_mask = tokenized_text['attention_mask'].to(device, dtype = torch.long)\n",
        "\n",
        "    generated_ids = model.generate(\n",
        "        input_ids = source_ids,\n",
        "        attention_mask = source_mask, \n",
        "        max_length=512,\n",
        "        num_beams=5,\n",
        "        repetition_penalty=1, \n",
        "        length_penalty=1, \n",
        "        early_stopping=True,\n",
        "        no_repeat_ngram_size=2\n",
        "    )\n",
        "\n",
        "    pred = tokenizer.decode(generated_ids[0], skip_special_tokens=True, clean_up_tokenization_spaces=True)\n",
        "\n",
        "print(\"\\noutput:\\n\" + pred)"
      ],
      "execution_count": null,
      "outputs": []
    },
    {
      "cell_type": "markdown",
      "metadata": {
        "id": "gvRYtH1R2kqD"
      },
      "source": [
        "# Evaluate with Blue Score"
      ]
    },
    {
      "cell_type": "code",
      "metadata": {
        "id": "zkbKEjhm2ofG"
      },
      "source": [
        "import nltk\n",
        "BLEUscore = nltk.translate.bleu_score.sentence_bleu([reference], hypothesis)"
      ],
      "execution_count": null,
      "outputs": []
    }
  ]
}